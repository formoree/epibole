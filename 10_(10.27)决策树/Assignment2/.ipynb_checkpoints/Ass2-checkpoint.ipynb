{
 "cells": [
  {
   "cell_type": "markdown",
   "metadata": {},
   "source": [
    "# Instructions\n",
    "\n",
    "1. This assignment is worth 5% of the final grade.\n",
    "2. In the questions below, insert a cell (code or markdown, as appropriate), and fill in your answers there.\n",
    "3. You are required to work on this individually. Any form of plagiarism will result in 0.\n",
    "4. If you need scripts package, please download it and change the name to scripts1. Then you can import it.\n",
    "5. Please try to apply the methods or instrucrtions in lecture. "
   ]
  },
  {
   "cell_type": "markdown",
   "metadata": {},
   "source": [
    "# Question 1\n",
    "\n",
    "The file `resale_flat_prices.csv` contains resale flat prices in Singapore from January 2017 onwards. The objective is to predict `resale_price` on all of `town`, `storey_range`, `floor_area_sqm`, and `remaining_lease`.\n",
    "\n",
    "**Use the data from the month July 2018 only as the training set and the data from the month August 2018 only as the test set.**\n",
    "\n",
    "1. Decision trees are a nonparametric supervised learning method used for classification and regression. The goal is to create a model that predicts the value of a target variable by learning simple decision rules inferred from the data features. A tree can be seen as a piecewise constant approximation. The hyper-parameter is the he maximum depth of the tree. Create a sklearn decision tree regressor, then generate and plot the validation curve on the *training set* by varying the maximum depth over a sensible range of values.\n",
    "2. Apply the best regressor to the *test set*, interpret the model, and compare its performance to that of multiple linear regression. Suggest one or two ways you may try to improve the decision tree regressor (you do not have to implement them)."
   ]
  },
  {
   "cell_type": "markdown",
   "metadata": {},
   "source": [
    "# Question 2\n",
    "\n",
    "Download and run the TensorFlow implementation of the SSD object detection model on these four images: `BKE_after_KJE_exit.jpg`, `BKE_MandaiRd_entrance.jpg`, `PIE_KallangWay.jpg`, and `PIE_KimKeatLink.jpg`.\n",
    "\n",
    "**Comment on the performance of the object detection model.** In a cell below, include the precise command you entered to run the SSD model:"
   ]
  },
  {
   "cell_type": "code",
   "execution_count": null,
   "metadata": {},
   "outputs": [],
   "source": [
    "# Fill in the details here and uncomment:\n",
    "#\n",
    "# %run opencv-master .....\n",
    "# --model ....\n",
    "# ....\n",
    "# --classes ...."
   ]
  },
  {
   "cell_type": "markdown",
   "metadata": {},
   "source": [
    "## References\n",
    "\n",
    "1. More details on regression trees - see section 8.1.1 of this book [pdf version available here](https://web.stanford.edu/~hastie/ISLR2/ISLRv2_website.pdf).\n",
    "1. sklearn [documentation](https://scikit-learn.org/stable/modules/generated/sklearn.tree.DecisionTreeRegressor.html) on regression trees. "
   ]
  }
 ],
 "metadata": {
  "kernelspec": {
   "display_name": "Python 3",
   "language": "python",
   "name": "python3"
  },
  "language_info": {
   "codemirror_mode": {
    "name": "ipython",
    "version": 3
   },
   "file_extension": ".py",
   "mimetype": "text/x-python",
   "name": "python",
   "nbconvert_exporter": "python",
   "pygments_lexer": "ipython3",
   "version": "3.8.3"
  }
 },
 "nbformat": 4,
 "nbformat_minor": 4
}
