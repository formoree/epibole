{
 "cells": [
  {
   "cell_type": "markdown",
   "id": "9e7c8293",
   "metadata": {},
   "source": [
    "# 打开文件及其他操作"
   ]
  },
  {
   "cell_type": "markdown",
   "id": "4475aec4",
   "metadata": {},
   "source": [
    "![jupyter](./file_operation.png)"
   ]
  },
  {
   "cell_type": "code",
   "execution_count": 2,
   "id": "0b340f5d",
   "metadata": {
    "ExecuteTime": {
     "end_time": "2021-07-20T10:24:50.658930Z",
     "start_time": "2021-07-20T10:24:50.652946Z"
    }
   },
   "outputs": [],
   "source": [
    "#open函数默认是“r”模式 也就是可读模式\n",
    "#但如果程序路径下没有对应文件会报错\n",
    "f = open(\"demo.txt\",\"w\")\n",
    "f.write(\"hello.world\")\n",
    "f.close()"
   ]
  },
  {
   "cell_type": "code",
   "execution_count": 6,
   "id": "e84b147d",
   "metadata": {
    "ExecuteTime": {
     "end_time": "2021-07-20T10:30:09.602354Z",
     "start_time": "2021-07-20T10:30:09.585400Z"
    }
   },
   "outputs": [
    {
     "name": "stdout",
     "output_type": "stream",
     "text": [
      "hello\n",
      ".world\n"
     ]
    }
   ],
   "source": [
    "f = open(\"demo.txt\")\n",
    "#read函数 指针在开头\n",
    "content = f.read(5)\n",
    "print(content)\n",
    "#readline 将指针后的一行全都读出\n",
    "#readlines 读取整个文件\n",
    "content = f.readline()\n",
    "print(content)\n",
    "f.close()\n",
    "\n",
    "## 输出：\n",
    "#hello\n",
    "#.world"
   ]
  },
  {
   "cell_type": "markdown",
   "id": "308b59e0",
   "metadata": {},
   "source": [
    "**以文本格式和二进制格式打开文件，到底有什么区别？**\n",
    "+ 从数据存储的角度上分析，二进制文件和文本文件没有区别，它们的内容都是以二进制的形式保存在磁盘中的。\n",
    "+ 使用 open() 函数以文本格式打开文件和以二进制格式打开文件，唯一的区别是对文件中换行符的处理不同\n",
    "    + 在 Windows 系统中，文件中用 \"\\r\\n\" 作为行末标识符（即换行符）\n",
    "        + 当以文本格式读取文件时，会将 \"\\r\\n\" 转换成 \"\\n\"；\n",
    "        + 反之，以文本格式将数据写入文件时，会将 \"\\n\" 转换成 \"\\r\\n\"。这种隐式转换换行符的行为，对用文本格式打开文本文件是没有问题的\n",
    "        + **但如果用文本格式打开二进制文件，就有可能改变文本中的数据（将 \\r\\n 隐式转换为 \\n）**\n",
    "        \n",
    "**总的来说，为了保险起见，对于 Windows平台最好用 b 打开二进制文件；对于 Unix/Linux 平台，打开二进制文件，可以用 b，也可以不用**"
   ]
  },
  {
   "cell_type": "markdown",
   "id": "3558e367",
   "metadata": {},
   "source": [
    "# 文件的相关操作 "
   ]
  },
  {
   "cell_type": "markdown",
   "id": "7db15074",
   "metadata": {},
   "source": [
    "## 文件重命名"
   ]
  },
  {
   "cell_type": "code",
   "execution_count": 7,
   "id": "146331f8",
   "metadata": {
    "ExecuteTime": {
     "end_time": "2021-07-20T10:35:27.192797Z",
     "start_time": "2021-07-20T10:35:27.179833Z"
    }
   },
   "outputs": [],
   "source": [
    "import os\n",
    "os.rename(\"demo.txt\",\"demo1.txt\")"
   ]
  },
  {
   "cell_type": "markdown",
   "id": "f236471f",
   "metadata": {},
   "source": [
    "## 文件删除"
   ]
  },
  {
   "cell_type": "code",
   "execution_count": null,
   "id": "0d7a9a20",
   "metadata": {},
   "outputs": [],
   "source": [
    "os.remove()"
   ]
  },
  {
   "cell_type": "markdown",
   "id": "e57feb91",
   "metadata": {},
   "source": [
    "# 异常处理"
   ]
  },
  {
   "cell_type": "markdown",
   "id": "700d88ad",
   "metadata": {},
   "source": [
    "## 一般处理"
   ]
  },
  {
   "cell_type": "code",
   "execution_count": 9,
   "id": "4893de2b",
   "metadata": {
    "ExecuteTime": {
     "end_time": "2021-07-20T11:10:36.173507Z",
     "start_time": "2021-07-20T11:10:36.164530Z"
    }
   },
   "outputs": [
    {
     "name": "stdout",
     "output_type": "stream",
     "text": [
      "------1-------\n",
      "----\n",
      "[Errno 2] No such file or directory: '123.txt'\n"
     ]
    }
   ],
   "source": [
    "try:\n",
    "    print(\"------1-------\")\n",
    "    open(\"123.txt\")\n",
    "    print(\"------2-------\")\n",
    "    \n",
    "    print(num)\n",
    "#IOError 文件没找到 属于输入输出异常 \n",
    "#将可能产生的所有异常放到里面\n",
    "except (IOError,NameError) as result:\n",
    "    print(\"----\") #捕获异常后执行的代码\n",
    "    print(result)"
   ]
  },
  {
   "cell_type": "markdown",
   "id": "2f233e06",
   "metadata": {},
   "source": [
    "## 承接所有异常 "
   ]
  },
  {
   "cell_type": "code",
   "execution_count": 10,
   "id": "79259291",
   "metadata": {
    "ExecuteTime": {
     "end_time": "2021-07-20T11:12:00.859759Z",
     "start_time": "2021-07-20T11:12:00.849789Z"
    }
   },
   "outputs": [
    {
     "name": "stdout",
     "output_type": "stream",
     "text": [
      "------1-------\n",
      "错误\n",
      "[Errno 2] No such file or directory: '123.txt'\n"
     ]
    }
   ],
   "source": [
    "try:\n",
    "    print(\"------1-------\")\n",
    "    open(\"123.txt\")\n",
    "    print(\"------2-------\")\n",
    "\n",
    "#Exception可以承接任何异常\n",
    "except Exception as result:\n",
    "    print(\"错误\") #捕获异常后执行的代码\n",
    "    print(result)"
   ]
  },
  {
   "cell_type": "markdown",
   "id": "b52d4abe",
   "metadata": {},
   "source": [
    "## finally 和 嵌套"
   ]
  },
  {
   "cell_type": "code",
   "execution_count": null,
   "id": "d26c519b",
   "metadata": {},
   "outputs": [],
   "source": [
    "#finally 必须要执行某一个代码"
   ]
  },
  {
   "cell_type": "code",
   "execution_count": 14,
   "id": "41771f69",
   "metadata": {
    "ExecuteTime": {
     "end_time": "2021-07-20T11:21:33.992776Z",
     "start_time": "2021-07-20T11:21:33.969870Z"
    }
   },
   "outputs": [
    {
     "name": "stdout",
     "output_type": "stream",
     "text": [
      "1:hello.world\n",
      "文件关闭\n"
     ]
    }
   ],
   "source": [
    "import time\n",
    "try:\n",
    "    f = open(\"demo1.txt\")\n",
    "    \n",
    "    try:\n",
    "        content = f.readlines()\n",
    "        i = 1\n",
    "        for temp in content:\n",
    "            print(\"%d:%s\" %(i,temp))\n",
    "            i = i+1\n",
    "    finally:\n",
    "        f.close()\n",
    "        print(\"文件关闭\")\n",
    "except Exception as result:\n",
    "    print(\"异常\")"
   ]
  },
  {
   "cell_type": "code",
   "execution_count": 29,
   "id": "10d3a323",
   "metadata": {
    "ExecuteTime": {
     "end_time": "2021-07-20T14:04:16.529957Z",
     "start_time": "2021-07-20T14:04:16.516990Z"
    }
   },
   "outputs": [],
   "source": [
    "def wr_poem(s):\n",
    "    f = open(\"gushi.txt\",\"w\",encoding=\"utf-8\")\n",
    "    for temp in s:\n",
    "        f.write(temp)\n",
    "        f.write('\\r\\n')\n",
    "    f.close()\n",
    "    \n",
    "def copy_poem():\n",
    "    f1 = open(\"gushi.txt\",encoding=\"utf-8\")\n",
    "    f2 = open(\"copy.txt\",\"w\",encoding=\"utf-8\")\n",
    "    content = f1.readlines()\n",
    "    for temp in content:\n",
    "        f2.write(temp)\n",
    "    f1.close()\n",
    "    f2.close()\n",
    "    \n",
    "s = ['日照香炉生紫烟,','遥看瀑布挂前川。','飞流直下三千尺，','疑是银河落九天。']\n",
    "wr_poem(s)\n",
    "copy_poem()\n",
    "\n",
    "#报错：not UTF-8coded\n",
    "#解决：写中文时需要确定编码方式"
   ]
  },
  {
   "cell_type": "code",
   "execution_count": 39,
   "id": "d3680577",
   "metadata": {
    "ExecuteTime": {
     "end_time": "2021-07-20T14:13:49.798378Z",
     "start_time": "2021-07-20T14:13:49.789373Z"
    },
    "code_folding": []
   },
   "outputs": [],
   "source": [
    "s = ['日照香炉生紫烟,','遥看瀑布挂前川。','飞流直下三千尺，','疑是银河落九天。']\n",
    "f = open(\"gushi.txt\",\"w\",encoding=\"utf-8\")\n",
    "for temp in s:\n",
    "    f.write(temp)\n",
    "    f.write('\\n')\n",
    "f.close()"
   ]
  },
  {
   "cell_type": "code",
   "execution_count": 35,
   "id": "53d458ae",
   "metadata": {
    "ExecuteTime": {
     "end_time": "2021-07-20T14:10:36.871528Z",
     "start_time": "2021-07-20T14:10:36.860556Z"
    }
   },
   "outputs": [
    {
     "name": "stdout",
     "output_type": "stream",
     "text": [
      "你好吗？\n",
      "朋友\n",
      "——分隔线——\n",
      "你好吗？\r",
      "朋友\n"
     ]
    }
   ],
   "source": [
    "print (\"你好吗？\\n朋友\")\n",
    "print (\"——分隔线——\")\n",
    "print (\"你好吗？\\r朋友\")"
   ]
  },
  {
   "cell_type": "code",
   "execution_count": null,
   "id": "55cb7653",
   "metadata": {},
   "outputs": [],
   "source": []
  },
  {
   "cell_type": "code",
   "execution_count": null,
   "id": "7a092956",
   "metadata": {},
   "outputs": [],
   "source": []
  }
 ],
 "metadata": {
  "kernelspec": {
   "display_name": "Python 3",
   "language": "python",
   "name": "python3"
  },
  "language_info": {
   "codemirror_mode": {
    "name": "ipython",
    "version": 3
   },
   "file_extension": ".py",
   "mimetype": "text/x-python",
   "name": "python",
   "nbconvert_exporter": "python",
   "pygments_lexer": "ipython3",
   "version": "3.7.10"
  },
  "toc": {
   "base_numbering": 1,
   "nav_menu": {},
   "number_sections": true,
   "sideBar": true,
   "skip_h1_title": false,
   "title_cell": "Table of Contents",
   "title_sidebar": "Contents",
   "toc_cell": false,
   "toc_position": {},
   "toc_section_display": true,
   "toc_window_display": false
  },
  "varInspector": {
   "cols": {
    "lenName": 16,
    "lenType": 16,
    "lenVar": 40
   },
   "kernels_config": {
    "python": {
     "delete_cmd_postfix": "",
     "delete_cmd_prefix": "del ",
     "library": "var_list.py",
     "varRefreshCmd": "print(var_dic_list())"
    },
    "r": {
     "delete_cmd_postfix": ") ",
     "delete_cmd_prefix": "rm(",
     "library": "var_list.r",
     "varRefreshCmd": "cat(var_dic_list()) "
    }
   },
   "types_to_exclude": [
    "module",
    "function",
    "builtin_function_or_method",
    "instance",
    "_Feature"
   ],
   "window_display": false
  }
 },
 "nbformat": 4,
 "nbformat_minor": 5
}
