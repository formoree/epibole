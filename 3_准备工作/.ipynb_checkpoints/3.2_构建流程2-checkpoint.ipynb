{
 "cells": [
  {
   "cell_type": "markdown",
   "id": "e4eab5df",
   "metadata": {},
   "source": [
    "# 构建流程 "
   ]
  },
  {
   "cell_type": "code",
   "execution_count": 74,
   "id": "e9e7d181",
   "metadata": {
    "ExecuteTime": {
     "end_time": "2021-07-21T09:47:51.023665Z",
     "start_time": "2021-07-21T09:47:40.446664Z"
    },
    "code_folding": [
     2,
     30,
     51
    ]
   },
   "outputs": [
    {
     "name": "stdout",
     "output_type": "stream",
     "text": [
      "<div class=\"item\">\n",
      "<div class=\"pic\">\n",
      "<em class=\"\">1</em>\n",
      "<a href=\"https://movie.douban.com/subject/1292052/\">\n",
      "<img alt=\"肖申克的救赎\" class=\"\" src=\"https://img2.doubanio.com/view/photo/s_ratio_poster/public/p480747492.jpg\" width=\"100\"/>\n",
      "</a>\n",
      "</div>\n",
      "<div class=\"info\">\n",
      "<div class=\"hd\">\n",
      "<a class=\"\" href=\"https://movie.douban.com/subject/1292052/\">\n",
      "<span class=\"title\">肖申克的救赎</span>\n",
      "<span class=\"title\"> / The Shawshank Redemption</span>\n",
      "<span class=\"other\"> / 月黑高飞(港)  /  刺激1995(台)</span>\n",
      "</a>\n",
      "<span class=\"playable\">[可播放]</span>\n",
      "</div>\n",
      "<div class=\"bd\">\n",
      "<p class=\"\">\n",
      "                            导演: 弗兰克·德拉邦特 Frank Darabont   主演: 蒂姆·罗宾斯 Tim Robbins /...<br/>\n",
      "                            1994 / 美国 / 犯罪 剧情\n",
      "                        </p>\n",
      "<div class=\"star\">\n",
      "<span class=\"rating5-t\"></span>\n",
      "<span class=\"rating_num\" property=\"v:average\">9.7</span>\n",
      "<span content=\"10.0\" property=\"v:best\"></span>\n",
      "<span>2399772人评价</span>\n",
      "</div>\n",
      "<p class=\"quote\">\n",
      "<span class=\"inq\">希望让人自由。</span>\n",
      "</p>\n",
      "</div>\n",
      "</div>\n",
      "</div>\n"
     ]
    }
   ],
   "source": [
    "from bs4 import BeautifulSoup\n",
    "import urllib\n",
    "def main():\n",
    "    baseurl = \"https://movie.douban.com/top250?start=\"\n",
    "    askURL(baseurl)\n",
    "    getData(baseurl)\n",
    "   \n",
    "#1.爬取网页\n",
    "#     datalist = getData(baseurl)\n",
    "#     savepath = \".\\\\豆瓣电影Top50.xls\"\n",
    "\n",
    "#影片详情\n",
    "findLink = re.compile(r'<a href=\"(.*?)\">') #创建正则对象 表示规则\n",
    "#影片图片\n",
    "findImgSrc = re.compile(r'<img.*src=\"(.*?)\"',re.S) #不是我们查找的内容 不加括号\n",
    "                                                   #re.S让换行符包含其中\n",
    "#影片片名\n",
    "findTitle = re.compile(r'<span class=\"title\">(.*?)</span>')\n",
    "#影片评分\n",
    "findScore = re.compile(r'<span class=\"rating_num\" property=\"v:average\">(.*)</span>')\n",
    "#评价人数\n",
    "findNum = re.compile(r'<span>(\\d*)人评价</span>')\n",
    "#找到概况\n",
    "findInq = re.compile(r'<span class=\"inq\">(.*?)</span>')\n",
    "#找到影片相关内容\n",
    "findBd = re.compile(r'<p class=\"\">(.*)</p>',re.S)\n",
    "\n",
    "\n",
    "#爬取网页\n",
    "def getData(baseurl):\n",
    "    datalist = []\n",
    "    for i in range(0,1):     #调用获取页面信息的函数：10次\n",
    "        url = baseurl+str(i*25)\n",
    "        html = askURL(url)\n",
    "        \n",
    "        #2.逐一解析数据\n",
    "        soup = BeautifulSoup(html,\"html.parser\")\n",
    "        for temp in soup.find_all(\"div\",class_=\"item\"): #查找符合要求的字符串\n",
    "            # print(temp) 测试查看item信息\n",
    "            data = [] #保存库中所有信息\n",
    "            temp = str(temp)\n",
    "            \n",
    "            #获取影片详情链接\n",
    "            link = re.findall(findLink,temp)[0] #按照findLink规则搜索temp\n",
    "            data.append(link)\n",
    "            \n",
    "            imgSrc = re.findall(findImgSrc,temp)[0]\n",
    "            data.append(imgSrc)\n",
    "            \n",
    "            titles = re.findall(findTitle,temp) #title可能有中文 可能有英文\n",
    "            if(len(titles) == 2):\n",
    "                ctitle = titles[0]\n",
    "                data.append(ctitle)\n",
    "                otitle = titles[1].reshape(\"/\",\"\") #去掉无关符号\n",
    "                data.append(otitle)\n",
    "            else:\n",
    "                data.append(titles[0])\n",
    "                data.append(\" \")     #外国名留空\n",
    "            \n",
    "            score = re.findall(findScore,temp)[0]\n",
    "            data.append(score)\n",
    "            \n",
    "            Num = re.findall(findNum,temp)[0]\n",
    "            data.append(Num)\n",
    "            \n",
    "            inq = re.findall(findInq,temp)[0]\n",
    "            if len(inq) != 0:\n",
    "                inq = inq[0].reshape(\"。\",\"\")\n",
    "                data.append(inq)\n",
    "            else:\n",
    "                data.append(\" \")\n",
    "                \n",
    "            bd = re.findall(findBd,temp)[0]\n",
    "            bd = re.sub('<br(\\s+)?/>(\\s+)?',\" \",bd) #去掉<br/>及其相关字符\n",
    "            bd = re.sub('/',' ',bd)\n",
    "            data.append(bd.strip()) #去掉前后空格\n",
    "            \n",
    "            datalist.append(data)\n",
    "            #print(link)\n",
    "    return datalist\n",
    "\n",
    "#得到指定URL网页的内容\n",
    "def askURL(url):\n",
    "    #用户代离 -- 本质告诉浏览器我们可以接受什么水平的文件\n",
    "    #head内字典的格式一定要严格 不能有空格\n",
    "    head = {\n",
    "       \"User-Agent\": \"Mozilla/5.0 (Windows NT 10.0; Win64; x64) AppleWebKit/537.36 (KHTML, like Gecko) Chrome/91.0.4472.124 Safari/537.36 Edg/91.0.864.70\"\n",
    "    }\n",
    "\n",
    "    request = urllib.request.Request(url,headers=head)\n",
    "    try:\n",
    "        response_0 = urllib.request.urlopen(request)\n",
    "        html = response_0.read().decode(\"utf-8\")\n",
    "    #    print(html)        \n",
    "    except Exception as e:       \n",
    "        if hasattr(e,\"code\"):\n",
    "            print(r.code)\n",
    "        if hasattr(e,\"reason\"):\n",
    "            print(e.reason)\n",
    "    \n",
    "    return html\n",
    "\n",
    "#3.保存数据\n",
    "def saveData(savepath):\n",
    "    pass\n",
    "    \n",
    "    \n",
    "if __name__ == '__main__':\n",
    "    main()"
   ]
  },
  {
   "cell_type": "markdown",
   "id": "624a98da",
   "metadata": {},
   "source": [
    "# BeautifulSoup补充 "
   ]
  },
  {
   "cell_type": "markdown",
   "id": "1501b6b2",
   "metadata": {},
   "source": [
    "## 对象认识"
   ]
  },
  {
   "cell_type": "markdown",
   "id": "7eb49dca",
   "metadata": {},
   "source": [
    "+ BeautifulSoup4将复杂的HTML文档转换为一个复杂的树形结构，每个节点都是python对象，所有对象可以归纳为一下4种:\n",
    "    + Tag:标签及其内容；拿到它所找到的第一个内容\n",
    "    + NavigableString:标签里的内容 字符串\n",
    "    + BeautifulSoup:整个文档\n",
    "    + COmment:特殊的NavigableString,输出的内容不包含注释符号"
   ]
  },
  {
   "cell_type": "code",
   "execution_count": 2,
   "id": "ae98b2f3",
   "metadata": {
    "ExecuteTime": {
     "end_time": "2021-07-21T07:53:10.266487Z",
     "start_time": "2021-07-21T07:53:10.245511Z"
    }
   },
   "outputs": [
    {
     "data": {
      "text/plain": [
       "bs4.element.Tag"
      ]
     },
     "execution_count": 2,
     "metadata": {},
     "output_type": "execute_result"
    }
   ],
   "source": [
    "from bs4 import BeautifulSoup\n",
    "file = open(\"baidu.html\",\"rb\")\n",
    "html = file.read()\n",
    "#BeautifulSoup(对象，解析器)\n",
    "bs = BeautifulSoup(html,\"html.parser\")\n",
    "type(bs.head) #bs4.element.Tag"
   ]
  },
  {
   "cell_type": "code",
   "execution_count": 6,
   "id": "0e75f95c",
   "metadata": {
    "ExecuteTime": {
     "end_time": "2021-07-21T07:55:58.803282Z",
     "start_time": "2021-07-21T07:55:58.782369Z"
    }
   },
   "outputs": [
    {
     "data": {
      "text/plain": [
       "('\\r\\n   百度一下，你就知道 ', bs4.element.NavigableString)"
      ]
     },
     "execution_count": 6,
     "metadata": {},
     "output_type": "execute_result"
    }
   ],
   "source": [
    "bs.title.string,type(bs.title.string) #bs4.element.NavigableString"
   ]
  },
  {
   "cell_type": "code",
   "execution_count": 7,
   "id": "0eaced31",
   "metadata": {
    "ExecuteTime": {
     "end_time": "2021-07-21T07:56:44.439360Z",
     "start_time": "2021-07-21T07:56:44.428390Z"
    }
   },
   "outputs": [
    {
     "data": {
      "text/plain": [
       "{'class': ['mnav'], 'href': 'http://news.baidu.com', 'name': 'tj_trnews'}"
      ]
     },
     "execution_count": 7,
     "metadata": {},
     "output_type": "execute_result"
    }
   ],
   "source": [
    "bs.a.attrs"
   ]
  },
  {
   "cell_type": "code",
   "execution_count": 8,
   "id": "3e1804d5",
   "metadata": {
    "ExecuteTime": {
     "end_time": "2021-07-21T07:57:41.734095Z",
     "start_time": "2021-07-21T07:57:41.712154Z"
    }
   },
   "outputs": [
    {
     "data": {
      "text/plain": [
       "bs4.BeautifulSoup"
      ]
     },
     "execution_count": 8,
     "metadata": {},
     "output_type": "execute_result"
    }
   ],
   "source": [
    "type(bs) #bs4.BeautifulSoup"
   ]
  },
  {
   "cell_type": "code",
   "execution_count": 12,
   "id": "072dbccc",
   "metadata": {
    "ExecuteTime": {
     "end_time": "2021-07-21T07:59:57.599135Z",
     "start_time": "2021-07-21T07:59:57.583211Z"
    }
   },
   "outputs": [
    {
     "data": {
      "text/plain": [
       "bs4.element.NavigableString"
      ]
     },
     "execution_count": 12,
     "metadata": {},
     "output_type": "execute_result"
    }
   ],
   "source": [
    "type(bs.a.string)"
   ]
  },
  {
   "cell_type": "markdown",
   "id": "c29bd0f8",
   "metadata": {},
   "source": [
    "## 文档的遍历 \n"
   ]
  },
  {
   "cell_type": "code",
   "execution_count": 14,
   "id": "8f7a7b87",
   "metadata": {
    "ExecuteTime": {
     "end_time": "2021-07-21T08:13:37.219364Z",
     "start_time": "2021-07-21T08:13:37.212414Z"
    }
   },
   "outputs": [
    {
     "name": "stdout",
     "output_type": "stream",
     "text": [
      "['\\n', <meta content=\"text/html;charset=utf-8\" http-equiv=\"content-type\"/>, '\\n', <meta content=\"IE=Edge\" http-equiv=\"X-UA-Compatible\"/>, '\\n', <meta content=\"always\" name=\"referrer\"/>, '\\n', <link href=\"https://ss1.bdstatic.com/5eN1bjq8AAUYm2zgoY3K/r/www/cache/bdorz/baidu.min.css\" rel=\"stylesheet\" type=\"text/css\"/>, '\\n', <title>\r\n",
      "   百度一下，你就知道 </title>, '\\n']\n",
      "<meta content=\"text/html;charset=utf-8\" http-equiv=\"content-type\"/>\n"
     ]
    }
   ],
   "source": [
    "#contents 将tag子节点以列表的形式输出\n",
    "print(bs.head.contents)\n",
    "print(bs.head.contents[1])\n",
    "#children 获取tag的所有子节点 返回一个生成器"
   ]
  },
  {
   "cell_type": "markdown",
   "id": "7341bdfd",
   "metadata": {},
   "source": [
    "## 文档搜索  find_all()"
   ]
  },
  {
   "cell_type": "markdown",
   "id": "0d0b76df",
   "metadata": {},
   "source": [
    "### 字符串过滤：会查找与字符串完全匹配的内容 "
   ]
  },
  {
   "cell_type": "code",
   "execution_count": 16,
   "id": "881bd207",
   "metadata": {
    "ExecuteTime": {
     "end_time": "2021-07-21T08:20:22.976998Z",
     "start_time": "2021-07-21T08:20:22.959046Z"
    }
   },
   "outputs": [
    {
     "data": {
      "text/plain": [
       "[<a class=\"mnav\" href=\"http://news.baidu.com\" name=\"tj_trnews\">\n",
       "        新闻 </a>,\n",
       " <a class=\"mnav\" href=\"https://www.hao123.com\" name=\"tj_trhao123\">\n",
       "        hao123 </a>,\n",
       " <a class=\"mnav\" href=\"http://map.baidu.com\" name=\"tj_trmap\">\n",
       "        地图 </a>,\n",
       " <a class=\"mnav\" href=\"http://v.baidu.com\" name=\"tj_trvideo\">\n",
       "        视频 </a>,\n",
       " <a class=\"mnav\" href=\"http://tieba.baidu.com\" name=\"tj_trtieba\">\n",
       "        贴吧 </a>,\n",
       " <a class=\"bri\" href=\"//www.baidu.com/more/\" name=\"tj_briicon\" style=\"display: block;\">\n",
       "        更多产品 </a>]"
      ]
     },
     "execution_count": 16,
     "metadata": {},
     "output_type": "execute_result"
    }
   ],
   "source": [
    "t_list = bs.find_all(\"a\")\n",
    "t_list"
   ]
  },
  {
   "cell_type": "code",
   "execution_count": 17,
   "id": "cd3e6047",
   "metadata": {
    "ExecuteTime": {
     "end_time": "2021-07-21T08:22:15.080512Z",
     "start_time": "2021-07-21T08:22:15.067549Z"
    }
   },
   "outputs": [
    {
     "data": {
      "text/plain": [
       "[<head>\n",
       " <meta content=\"text/html;charset=utf-8\" http-equiv=\"content-type\"/>\n",
       " <meta content=\"IE=Edge\" http-equiv=\"X-UA-Compatible\"/>\n",
       " <meta content=\"always\" name=\"referrer\"/>\n",
       " <link href=\"https://ss1.bdstatic.com/5eN1bjq8AAUYm2zgoY3K/r/www/cache/bdorz/baidu.min.css\" rel=\"stylesheet\" type=\"text/css\"/>\n",
       " <title>\n",
       "    百度一下，你就知道 </title>\n",
       " </head>,\n",
       " <meta content=\"text/html;charset=utf-8\" http-equiv=\"content-type\"/>,\n",
       " <meta content=\"IE=Edge\" http-equiv=\"X-UA-Compatible\"/>,\n",
       " <meta content=\"always\" name=\"referrer\"/>,\n",
       " <a class=\"mnav\" href=\"http://news.baidu.com\" name=\"tj_trnews\">\n",
       "        新闻 </a>,\n",
       " <a class=\"mnav\" href=\"https://www.hao123.com\" name=\"tj_trhao123\">\n",
       "        hao123 </a>,\n",
       " <a class=\"mnav\" href=\"http://map.baidu.com\" name=\"tj_trmap\">\n",
       "        地图 </a>,\n",
       " <a class=\"mnav\" href=\"http://v.baidu.com\" name=\"tj_trvideo\">\n",
       "        视频 </a>,\n",
       " <a class=\"mnav\" href=\"http://tieba.baidu.com\" name=\"tj_trtieba\">\n",
       "        贴吧 </a>,\n",
       " <a class=\"bri\" href=\"//www.baidu.com/more/\" name=\"tj_briicon\" style=\"display: block;\">\n",
       "        更多产品 </a>]"
      ]
     },
     "execution_count": 17,
     "metadata": {},
     "output_type": "execute_result"
    }
   ],
   "source": [
    "#正则表达式搜索：search()\n",
    "#标签含有a全都显示\n",
    "import re\n",
    "t_list = bs.find_all(re.compile(\"a\"))\n",
    "t_list"
   ]
  },
  {
   "cell_type": "markdown",
   "id": "d1f123da",
   "metadata": {},
   "source": [
    "### kwargs 参数 "
   ]
  },
  {
   "cell_type": "code",
   "execution_count": 19,
   "id": "d470d676",
   "metadata": {
    "ExecuteTime": {
     "end_time": "2021-07-21T08:26:35.684074Z",
     "start_time": "2021-07-21T08:26:35.671075Z"
    }
   },
   "outputs": [
    {
     "name": "stdout",
     "output_type": "stream",
     "text": [
      "<div id=\"head\">\n",
      "<div class=\"head_wrapper\">\n",
      "<div id=\"u1\">\n",
      "<a class=\"mnav\" href=\"http://news.baidu.com\" name=\"tj_trnews\">\r\n",
      "       新闻 </a>\n",
      "<a class=\"mnav\" href=\"https://www.hao123.com\" name=\"tj_trhao123\">\r\n",
      "       hao123 </a>\n",
      "<a class=\"mnav\" href=\"http://map.baidu.com\" name=\"tj_trmap\">\r\n",
      "       地图 </a>\n",
      "<a class=\"mnav\" href=\"http://v.baidu.com\" name=\"tj_trvideo\">\r\n",
      "       视频 </a>\n",
      "<a class=\"mnav\" href=\"http://tieba.baidu.com\" name=\"tj_trtieba\">\r\n",
      "       贴吧 </a>\n",
      "<a class=\"bri\" href=\"//www.baidu.com/more/\" name=\"tj_briicon\" style=\"display: block;\">\r\n",
      "       更多产品 </a>\n",
      "</div>\n",
      "</div>\n",
      "</div>\n"
     ]
    }
   ],
   "source": [
    "t_list = bs.find_all(id=\"head\")\n",
    "\n",
    "for temp in t_list:\n",
    "    print(temp)"
   ]
  },
  {
   "cell_type": "markdown",
   "id": "882df83b",
   "metadata": {},
   "source": [
    "### text参数"
   ]
  },
  {
   "cell_type": "markdown",
   "id": "8556ee42",
   "metadata": {},
   "source": [
    "+ 关于find_all(text=xx) 列表为空情况的出现问题解决方式：\n",
    "+ 问题原因：编码方式\n",
    "+ 解决方法：调用re模块（引用正则表达式）"
   ]
  },
  {
   "cell_type": "code",
   "execution_count": 40,
   "id": "3ffea558",
   "metadata": {
    "ExecuteTime": {
     "end_time": "2021-07-21T08:44:34.461161Z",
     "start_time": "2021-07-21T08:44:34.451187Z"
    }
   },
   "outputs": [
    {
     "name": "stdout",
     "output_type": "stream",
     "text": [
      "\r\n",
      "       hao123 \n"
     ]
    }
   ],
   "source": [
    "#t_list = bs.find_all(text=(u\"hao123\")) 不能适用\n",
    "t_list = bs.find_all(text=re.compile(\"\\d\"))\n",
    "\n",
    "for temp in t_list:\n",
    "    print(temp)"
   ]
  },
  {
   "cell_type": "markdown",
   "id": "0805c3ee",
   "metadata": {},
   "source": [
    "### limit参数\n",
    "限定输出个数"
   ]
  },
  {
   "cell_type": "code",
   "execution_count": 41,
   "id": "cc5346a0",
   "metadata": {
    "ExecuteTime": {
     "end_time": "2021-07-21T08:45:16.349987Z",
     "start_time": "2021-07-21T08:45:16.342008Z"
    }
   },
   "outputs": [
    {
     "name": "stdout",
     "output_type": "stream",
     "text": [
      "<a class=\"mnav\" href=\"http://news.baidu.com\" name=\"tj_trnews\">\r\n",
      "       新闻 </a>\n",
      "<a class=\"mnav\" href=\"https://www.hao123.com\" name=\"tj_trhao123\">\r\n",
      "       hao123 </a>\n",
      "<a class=\"mnav\" href=\"http://map.baidu.com\" name=\"tj_trmap\">\r\n",
      "       地图 </a>\n"
     ]
    }
   ],
   "source": [
    "t_list = bs.find_all('a',limit=3)\n",
    "\n",
    "for temp in t_list:\n",
    "    print(temp)"
   ]
  },
  {
   "cell_type": "markdown",
   "id": "ba6e41c6",
   "metadata": {},
   "source": [
    "### css选择器 "
   ]
  },
  {
   "cell_type": "code",
   "execution_count": 47,
   "id": "3a82a52f",
   "metadata": {
    "ExecuteTime": {
     "end_time": "2021-07-21T08:49:42.299842Z",
     "start_time": "2021-07-21T08:49:42.284882Z"
    }
   },
   "outputs": [
    {
     "data": {
      "text/plain": [
       "[<title>\n",
       "    百度一下，你就知道 </title>]"
      ]
     },
     "execution_count": 47,
     "metadata": {},
     "output_type": "execute_result"
    }
   ],
   "source": [
    "#t_list = bs.select('title') #通过标签来查找\n",
    "#t_list = bs.select(\".mnav\") #类名\n",
    "# t_list = bs.select(\"a[class='bri']\") #通过属性来查找\n",
    "# t_list = bs.select(\"head > title\") #通过子标签\n",
    "\n",
    "# t_list"
   ]
  },
  {
   "cell_type": "code",
   "execution_count": 48,
   "id": "7454b0d0",
   "metadata": {
    "ExecuteTime": {
     "end_time": "2021-07-21T08:51:19.617069Z",
     "start_time": "2021-07-21T08:51:19.595164Z"
    }
   },
   "outputs": [
    {
     "data": {
      "text/plain": [
       "'\\r\\n       更多产品 '"
      ]
     },
     "execution_count": 48,
     "metadata": {},
     "output_type": "execute_result"
    }
   ],
   "source": [
    "t_list = bs.select(\".mnav~.bri\")  #兄弟节点属性\n",
    "t_list[0].get_text()"
   ]
  },
  {
   "cell_type": "markdown",
   "id": "16fa4e59",
   "metadata": {},
   "source": [
    "## re模块"
   ]
  },
  {
   "cell_type": "markdown",
   "id": "3c5120f6",
   "metadata": {},
   "source": [
    "### 基础知识介绍 "
   ]
  },
  {
   "cell_type": "markdown",
   "id": "6aeb40ab",
   "metadata": {
    "ExecuteTime": {
     "end_time": "2021-07-21T08:57:25.108091Z",
     "start_time": "2021-07-21T08:57:24.882750Z"
    }
   },
   "source": [
    "![jupyter](./正则表达式.png)"
   ]
  },
  {
   "cell_type": "markdown",
   "id": "c143919d",
   "metadata": {},
   "source": [
    "![jupyter](./re库.png)"
   ]
  },
  {
   "cell_type": "markdown",
   "id": "010fa878",
   "metadata": {},
   "source": [
    "### 实战\n",
    "**建议在正则表达式之前加上r 防止其被转义**"
   ]
  },
  {
   "cell_type": "markdown",
   "id": "eb54d1b7",
   "metadata": {},
   "source": [
    "#### search() "
   ]
  },
  {
   "cell_type": "code",
   "execution_count": 57,
   "id": "968197d4",
   "metadata": {
    "ExecuteTime": {
     "end_time": "2021-07-21T09:11:12.321763Z",
     "start_time": "2021-07-21T09:11:12.307801Z"
    }
   },
   "outputs": [
    {
     "data": {
      "text/plain": [
       "<re.Match object; span=(0, 2), match='AA'>"
      ]
     },
     "execution_count": 57,
     "metadata": {},
     "output_type": "execute_result"
    }
   ],
   "source": [
    "#正则表达式：字符串模式(判断其是否符合标准)\n",
    "import re\n",
    "pat = re.compile(\"AA\") #创建模式对象(验证) AA--正则表达式\n",
    "m = pat.search(\"AcBC\") #none\n",
    "m = pat.search(\"WEAA\") #<re.Match object; span=(2, 4), match='AA'>\n",
    "m = pat.search(\"AABCAA\") #<re.Match object; span=(0, 2), match='AA'> 只找到第一个"
   ]
  },
  {
   "cell_type": "code",
   "execution_count": 59,
   "id": "dca633b1",
   "metadata": {
    "ExecuteTime": {
     "end_time": "2021-07-21T09:12:26.036898Z",
     "start_time": "2021-07-21T09:12:26.028885Z"
    }
   },
   "outputs": [
    {
     "data": {
      "text/plain": [
       "<re.Match object; span=(2, 4), match='AA'>"
      ]
     },
     "execution_count": 59,
     "metadata": {},
     "output_type": "execute_result"
    }
   ],
   "source": [
    "#无模式对象\n",
    "m = re.search(\"AA\",\"ASAAA\") #前面是规则 后面是对象\n",
    "m"
   ]
  },
  {
   "cell_type": "markdown",
   "id": "e9ce188e",
   "metadata": {},
   "source": [
    "#### findall()"
   ]
  },
  {
   "cell_type": "code",
   "execution_count": 62,
   "id": "ccbeb245",
   "metadata": {
    "ExecuteTime": {
     "end_time": "2021-07-21T09:14:13.901811Z",
     "start_time": "2021-07-21T09:14:13.890803Z"
    }
   },
   "outputs": [
    {
     "data": {
      "text/plain": [
       "['ASDAEFEF']"
      ]
     },
     "execution_count": 62,
     "metadata": {},
     "output_type": "execute_result"
    }
   ],
   "source": [
    "re.findall(\"[A-Z]+\",\"ASDAEFEFsda\")"
   ]
  },
  {
   "cell_type": "markdown",
   "id": "534ab306",
   "metadata": {},
   "source": [
    "####  sub()"
   ]
  },
  {
   "cell_type": "code",
   "execution_count": 63,
   "id": "5d2d8c87",
   "metadata": {
    "ExecuteTime": {
     "end_time": "2021-07-21T09:15:06.726665Z",
     "start_time": "2021-07-21T09:15:06.707716Z"
    }
   },
   "outputs": [
    {
     "data": {
      "text/plain": [
       "'AsdAAsdfAsd'"
      ]
     },
     "execution_count": 63,
     "metadata": {},
     "output_type": "execute_result"
    }
   ],
   "source": [
    "re.sub(\"a\",\"A\",\"asdaasdfasd\") #找到a用A替换"
   ]
  },
  {
   "cell_type": "code",
   "execution_count": null,
   "id": "c3c813b0",
   "metadata": {},
   "outputs": [],
   "source": []
  },
  {
   "cell_type": "code",
   "execution_count": null,
   "id": "02fc8490",
   "metadata": {},
   "outputs": [],
   "source": []
  },
  {
   "cell_type": "code",
   "execution_count": null,
   "id": "bf4cc53a",
   "metadata": {},
   "outputs": [],
   "source": []
  },
  {
   "cell_type": "code",
   "execution_count": null,
   "id": "44d19aaa",
   "metadata": {},
   "outputs": [],
   "source": []
  }
 ],
 "metadata": {
  "kernelspec": {
   "display_name": "Python 3",
   "language": "python",
   "name": "python3"
  },
  "language_info": {
   "codemirror_mode": {
    "name": "ipython",
    "version": 3
   },
   "file_extension": ".py",
   "mimetype": "text/x-python",
   "name": "python",
   "nbconvert_exporter": "python",
   "pygments_lexer": "ipython3",
   "version": "3.7.10"
  },
  "toc": {
   "base_numbering": 1,
   "nav_menu": {},
   "number_sections": true,
   "sideBar": true,
   "skip_h1_title": false,
   "title_cell": "Table of Contents",
   "title_sidebar": "Contents",
   "toc_cell": false,
   "toc_position": {},
   "toc_section_display": true,
   "toc_window_display": false
  },
  "varInspector": {
   "cols": {
    "lenName": 16,
    "lenType": 16,
    "lenVar": 40
   },
   "kernels_config": {
    "python": {
     "delete_cmd_postfix": "",
     "delete_cmd_prefix": "del ",
     "library": "var_list.py",
     "varRefreshCmd": "print(var_dic_list())"
    },
    "r": {
     "delete_cmd_postfix": ") ",
     "delete_cmd_prefix": "rm(",
     "library": "var_list.r",
     "varRefreshCmd": "cat(var_dic_list()) "
    }
   },
   "types_to_exclude": [
    "module",
    "function",
    "builtin_function_or_method",
    "instance",
    "_Feature"
   ],
   "window_display": false
  }
 },
 "nbformat": 4,
 "nbformat_minor": 5
}
