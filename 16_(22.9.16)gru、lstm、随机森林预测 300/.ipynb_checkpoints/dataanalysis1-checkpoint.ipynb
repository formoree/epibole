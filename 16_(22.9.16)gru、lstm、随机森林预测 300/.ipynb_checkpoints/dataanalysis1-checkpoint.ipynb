{
 "cells": [
  {
   "cell_type": "code",
   "execution_count": 53,
   "metadata": {},
   "outputs": [],
   "source": [
    "import pandas as pd\n",
    "from collections import defaultdict\n",
    "import csv"
   ]
  },
  {
   "cell_type": "code",
   "execution_count": 54,
   "metadata": {},
   "outputs": [],
   "source": [
    "datas = pd.read_csv(r'/Users/Desktop/HomeA-meter2_2016.csv',parse_dates=['Date & Time'],index_col=['Date & Time'])"
   ]
  },
  {
   "cell_type": "code",
   "execution_count": 56,
   "metadata": {},
   "outputs": [],
   "source": [
    "datas[\"总和\"] =datas.apply(lambda x:x.sum(),axis =1)"
   ]
  },
  {
   "cell_type": "code",
   "execution_count": 57,
   "metadata": {},
   "outputs": [],
   "source": [
    "date_list = list(datas.index)"
   ]
  },
  {
   "cell_type": "code",
   "execution_count": 58,
   "metadata": {},
   "outputs": [],
   "source": [
    "date_list = [str(da) for da in date_list]"
   ]
  },
  {
   "cell_type": "code",
   "execution_count": 59,
   "metadata": {},
   "outputs": [],
   "source": [
    "data_list = list(datas['总和'])"
   ]
  },
  {
   "cell_type": "code",
   "execution_count": 60,
   "metadata": {},
   "outputs": [],
   "source": [
    "dic = defaultdict(list)\n",
    "for date,data in zip(date_list,data_list):\n",
    "    if ':00' in date or ':30' in date:\n",
    "        key_list = date.split(' ')\n",
    "        dic[key_list[0]].append([key_list[1],data])\n",
    "#print(data_list)"
   ]
  },
  {
   "cell_type": "code",
   "execution_count": 61,
   "metadata": {},
   "outputs": [],
   "source": [
    "with open(r'/Users/wangjiehan/Desktop/result.csv','w',encoding='utf-8',newline='') as f:\n",
    "    \n",
    "    writer = csv.writer(f)\n",
    "    flag = 0\n",
    "    for key,value in dic.items():\n",
    "       \n",
    "        if flag==0:\n",
    "            #col_name = [va[0] for va in value]\n",
    "            nums=range(1,49)\n",
    "            col_name = list(nums)\n",
    "            col_name.insert(0,'Date')\n",
    "            writer.writerow(col_name)\n",
    "            flag=1\n",
    "        data_list = [va[1] for va in value]\n",
    "        data_list.insert(0,key)\n",
    "        writer.writerow(data_list)"
   ]
  },
  {
   "cell_type": "code",
   "execution_count": null,
   "metadata": {},
   "outputs": [],
   "source": []
  },
  {
   "cell_type": "code",
   "execution_count": null,
   "metadata": {},
   "outputs": [],
   "source": []
  }
 ],
 "metadata": {
  "kernelspec": {
   "display_name": "Python 3",
   "language": "python",
   "name": "python3"
  },
  "language_info": {
   "codemirror_mode": {
    "name": "ipython",
    "version": 3
   },
   "file_extension": ".py",
   "mimetype": "text/x-python",
   "name": "python",
   "nbconvert_exporter": "python",
   "pygments_lexer": "ipython3",
   "version": "3.8.8"
  },
  "toc": {
   "base_numbering": 1,
   "nav_menu": {},
   "number_sections": true,
   "sideBar": true,
   "skip_h1_title": false,
   "title_cell": "Table of Contents",
   "title_sidebar": "Contents",
   "toc_cell": false,
   "toc_position": {},
   "toc_section_display": true,
   "toc_window_display": false
  }
 },
 "nbformat": 4,
 "nbformat_minor": 4
}
