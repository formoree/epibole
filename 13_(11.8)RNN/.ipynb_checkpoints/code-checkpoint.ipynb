{
 "cells": [
  {
   "cell_type": "code",
   "execution_count": 66,
   "id": "99f623c6",
   "metadata": {},
   "outputs": [],
   "source": [
    "import pandas as pd\n",
    "import numpy as np\n",
    "import re\n",
    "import matplotlib.pyplot as plt"
   ]
  },
  {
   "cell_type": "code",
   "execution_count": 111,
   "id": "57402dae",
   "metadata": {
    "scrolled": true
   },
   "outputs": [
    {
     "data": {
      "text/plain": [
       "['06-30-']         959\n",
       "['10-09-']         171\n",
       "['11-06-']           1\n",
       "['11-07-']         721\n",
       "['11-8-']            5\n",
       "['2016-06-24-']      9\n",
       "['2016-06-25-']      3\n",
       "['2016-06-26-']      5\n",
       "['2016-06-27-']     57\n",
       "['2016-06-28-']     70\n",
       "['2016-06-29-']     86\n",
       "['2016-06-30-']     50\n",
       "['2016-12-26-']     15\n",
       "['2016-12-27-']     15\n",
       "['2016-12-28-']     12\n",
       "['2016-12-29-']    192\n",
       "['2016-12-30-']     70\n",
       "['2016-12-31-']     16\n",
       "['2017-06-26-']      8\n",
       "['2017-06-27-']     23\n",
       "['2017-06-28-']     56\n",
       "['2017-06-29-']    177\n",
       "['2017-06-30-']    104\n",
       "['2017-12-30-']      5\n",
       "['2017-12-31-']     87\n",
       "['2018-06-30-']    729\n",
       "['2018-09-16-']    399\n",
       "['2018-12-31-']    403\n",
       "['2019-06-30-']    753\n",
       "['2019-07-06-']     10\n",
       "['2019-08-08-']      1\n",
       "['2019-11-04-']      1\n",
       "['2019-12-02-']      1\n",
       "['2019-12-31-']    697\n",
       "['2020-06-30-']    871\n",
       "['2020-12-31-']    709\n",
       "Name: 发布时间, dtype: int64"
      ]
     },
     "execution_count": 111,
     "metadata": {},
     "output_type": "execute_result"
    }
   ],
   "source": [
    "#数据预处理 正则表达式提取数字\n",
    "data_0 = pd.read_excel(\"微博-关键词内容.xlsx\")\n",
    "for index, row in data_0.iterrows():\n",
    "    #提取年月日\n",
    "    d = re.findall(r'\\d*年*\\d*月\\d*日',row[\"发布时间\"])\n",
    "    d = re.sub(r'年|月|日','-',str(d))\n",
    "    data_0.at[index,\"发布时间\"] = d\n",
    "#对文本数量进行计数\n",
    "data = data_0[\"发布时间\"].value_counts(sort=False)\n",
    "del data[\"['11-04-']\"]\n",
    "data"
   ]
  },
  {
   "cell_type": "markdown",
   "id": "15b6e6e0",
   "metadata": {},
   "source": [
    "数据的格式出现一些bug:在excel中2021年的时间已经加上去了，但是在代码读取中无法显示。这可能会对后续模型的准确度造成影响"
   ]
  },
  {
   "cell_type": "code",
   "execution_count": 112,
   "id": "c4c321a8",
   "metadata": {},
   "outputs": [
    {
     "data": {
      "text/plain": [
       "[<matplotlib.lines.Line2D at 0x1b7a9313df0>]"
      ]
     },
     "execution_count": 112,
     "metadata": {},
     "output_type": "execute_result"
    },
    {
     "data": {
      "image/png": "[encoded data removed]",
      "text/plain": [
       "<Figure size 432x288 with 1 Axes>"
      ]
     },
     "metadata": {
      "needs_background": "light"
     },
     "output_type": "display_data"
    }
   ],
   "source": [
    "#简单绘制data分布曲线\n",
    "plt.plot(data)"
   ]
  },
  {
   "cell_type": "code",
   "execution_count": 113,
   "id": "c8fd4b49",
   "metadata": {},
   "outputs": [
    {
     "data": {
      "text/plain": [
       "[1.0010438,\n",
       " 0.17849687,\n",
       " 0.0010438414,\n",
       " 0.7526096,\n",
       " 0.0052192067,\n",
       " 0.009394572,\n",
       " 0.003131524,\n",
       " 0.0052192067,\n",
       " 0.059498955,\n",
       " 0.073068894,\n",
       " 0.089770354,\n",
       " 0.052192066,\n",
       " 0.01565762,\n",
       " 0.01565762,\n",
       " 0.012526096,\n",
       " 0.20041753,\n",
       " 0.073068894,\n",
       " 0.016701462,\n",
       " 0.008350731,\n",
       " 0.02400835,\n",
       " 0.058455113,\n",
       " 0.18475991,\n",
       " 0.1085595,\n",
       " 0.0052192067,\n",
       " 0.090814196,\n",
       " 0.76096034,\n",
       " 0.4164927,\n",
       " 0.42066807,\n",
       " 0.78601253,\n",
       " 0.010438413,\n",
       " 0.0010438414,\n",
       " 0.0010438414,\n",
       " 0.0010438414,\n",
       " 0.7275574,\n",
       " 0.9091858,\n",
       " 0.7400835]"
      ]
     },
     "execution_count": 113,
     "metadata": {},
     "output_type": "execute_result"
    }
   ],
   "source": [
    "# 去除数据空值 数据标准化到0~1 \n",
    "data = data.dropna()\n",
    "dataset = data.values\n",
    "dataset = dataset.astype('float32')\n",
    "max_value = np.max(dataset)\n",
    "min_value = np.min(dataset)\n",
    "scalar = max_value - min_value\n",
    "dataset = list(map(lambda x:x / scalar,dataset))\n",
    "dataset"
   ]
  },
  {
   "cell_type": "code",
   "execution_count": 229,
   "id": "31cc48ba",
   "metadata": {},
   "outputs": [
    {
     "data": {
      "text/plain": [
       "array([[1.0010438 , 0.17849687],\n",
       "       [0.17849687, 0.00104384],\n",
       "       [0.00104384, 0.7526096 ],\n",
       "       [0.7526096 , 0.00521921],\n",
       "       [0.00521921, 0.00939457],\n",
       "       [0.00939457, 0.00313152],\n",
       "       [0.00313152, 0.00521921],\n",
       "       [0.00521921, 0.05949895],\n",
       "       [0.05949895, 0.07306889],\n",
       "       [0.07306889, 0.08977035],\n",
       "       [0.08977035, 0.05219207],\n",
       "       [0.05219207, 0.01565762],\n",
       "       [0.01565762, 0.01565762],\n",
       "       [0.01565762, 0.0125261 ],\n",
       "       [0.0125261 , 0.20041753],\n",
       "       [0.20041753, 0.07306889],\n",
       "       [0.07306889, 0.01670146],\n",
       "       [0.01670146, 0.00835073],\n",
       "       [0.00835073, 0.02400835],\n",
       "       [0.02400835, 0.05845511],\n",
       "       [0.05845511, 0.18475991],\n",
       "       [0.18475991, 0.1085595 ],\n",
       "       [0.1085595 , 0.00521921],\n",
       "       [0.00521921, 0.0908142 ],\n",
       "       [0.0908142 , 0.76096034],\n",
       "       [0.76096034, 0.4164927 ],\n",
       "       [0.4164927 , 0.42066807],\n",
       "       [0.42066807, 0.78601253],\n",
       "       [0.78601253, 0.01043841],\n",
       "       [0.01043841, 0.00104384],\n",
       "       [0.00104384, 0.00104384],\n",
       "       [0.00104384, 0.00104384],\n",
       "       [0.00104384, 0.7275574 ],\n",
       "       [0.7275574 , 0.9091858 ]], dtype=float32)"
      ]
     },
     "execution_count": 229,
     "metadata": {},
     "output_type": "execute_result"
    }
   ],
   "source": [
    "#我们通过前两个时间点的文本数作为输入 当天的文本数作为输出\n",
    "def crt_dataset(dataset, look_back=2):\n",
    "    dataX, dataY = [], []\n",
    "    for i in range(len(dataset) - look_back):\n",
    "        a = dataset[i:(i + look_back)]\n",
    "        dataX.append(a)\n",
    "        dataY.append(dataset[i + look_back])\n",
    "    return np.array(dataX), np.array(dataY)\n",
    "# 创建好输入输出\n",
    "data_X, data_Y = crt_dataset(dataset)\n",
    "data_X"
   ]
  },
  {
   "cell_type": "code",
   "execution_count": 230,
   "id": "3d2ec6d0",
   "metadata": {},
   "outputs": [],
   "source": [
    "# 划分训练集和测试集，80% 作为训练集\n",
    "train_size = int(len(data_X) * 0.8)\n",
    "test_size = len(data_X) - train_size\n",
    "train_X = data_X[:train_size]\n",
    "train_Y = data_Y[:train_size]\n",
    "test_X = data_X[train_size:]\n",
    "test_Y = data_Y[train_size:]"
   ]
  },
  {
   "cell_type": "code",
   "execution_count": 129,
   "id": "59a50d8c",
   "metadata": {},
   "outputs": [],
   "source": [
    "#根据网络结构改变输入输出tensor形状\n",
    "import torch\n",
    "\n",
    "train_X = np.array(train_X).reshape(-1, 1, 2)\n",
    "train_Y = np.array(train_Y).reshape(-1, 1, 1)\n",
    "test_X = np.array(test_X).reshape(-1, 1, 2)\n",
    "#转化为tensor\n",
    "train_x = torch.from_numpy(train_X)\n",
    "train_y = torch.from_numpy(train_Y)\n",
    "test_x = torch.from_numpy(test_X)"
   ]
  },
  {
   "cell_type": "code",
   "execution_count": 225,
   "id": "5e7b1514",
   "metadata": {},
   "outputs": [
    {
     "name": "stdout",
     "output_type": "stream",
     "text": [
      "Epoch: 100, Loss: 0.02656\n",
      "Epoch: 200, Loss: 0.00546\n",
      "Epoch: 300, Loss: 0.00123\n",
      "Epoch: 400, Loss: 0.00073\n",
      "Epoch: 500, Loss: 0.00057\n",
      "Epoch: 600, Loss: 0.00477\n",
      "Epoch: 700, Loss: 0.00069\n",
      "Epoch: 800, Loss: 0.00050\n",
      "Epoch: 900, Loss: 0.00046\n",
      "Epoch: 1000, Loss: 0.00042\n"
     ]
    }
   ],
   "source": [
    "from torch import nn\n",
    "from torch.autograd import Variable\n",
    "Loss = []\n",
    "# 定义模型\n",
    "class lstm_reg(nn.Module):\n",
    "    def __init__(self, input_size, hidden_size, output_size=1, num_layers=2):\n",
    "        super(lstm_reg, self).__init__()\n",
    "\n",
    "        self.rnn = nn.LSTM(input_size, hidden_size, num_layers) # rnn\n",
    "        self.reg = nn.Linear(hidden_size, output_size) # 回归\n",
    "\n",
    "    def forward(self, x):\n",
    "        x, _ = self.rnn(x) # (seq, batch, hidden)\n",
    "        s, b, h = x.shape\n",
    "        x = x.view(s*b, h) # 转换成线性层的输入格式\n",
    "        x = self.reg(x)\n",
    "        x = x.view(s, b, -1)\n",
    "        return x\n",
    "    #因为有两个月的特征所以是2 hidden_size可以随便选择\n",
    "net = lstm_reg(2, 8)\n",
    "\n",
    "criterion = nn.MSELoss()\n",
    "optimizer = torch.optim.Adam(net.parameters(), lr=1e-2)\n",
    "\n",
    "# 开始训练 较为模板化(神经网络基本这个结构)\n",
    "for e in range(1000):\n",
    "    var_x = Variable(train_x)\n",
    "    var_y = Variable(train_y)\n",
    "    # 前向传播\n",
    "    out = net(var_x)\n",
    "    loss = criterion(out, var_y)\n",
    "    Loss.append(loss.item())\n",
    "    # 反向传播\n",
    "    optimizer.zero_grad()\n",
    "    loss.backward()\n",
    "    optimizer.step()\n",
    "    if (e + 1) % 100 == 0: # 每 100 次输出结果\n",
    "        print('Epoch: {}, Loss: {:.5f}'.format(e + 1, loss.item()))\n"
   ]
  },
  {
   "cell_type": "code",
   "execution_count": 226,
   "id": "bb9890b6",
   "metadata": {},
   "outputs": [
    {
     "data": {
      "text/plain": [
       "<matplotlib.legend.Legend at 0x1b7bbc0b700>"
      ]
     },
     "execution_count": 226,
     "metadata": {},
     "output_type": "execute_result"
    },
    {
     "data": {
      "image/png": "[encoded data removed]",
      "text/plain": [
       "<Figure size 432x288 with 1 Axes>"
      ]
     },
     "metadata": {
      "needs_background": "light"
     },
     "output_type": "display_data"
    }
   ],
   "source": [
    "net = net.eval() # 转换成测试模式\n",
    "data_X = np.array(data_X).reshape(-1, 1, 2)\n",
    "data_X = torch.from_numpy(data_X)\n",
    "var_data = Variable(data_X)\n",
    "pred_test = net(var_data) # 测试集的预测结果\n",
    "# 改变输出的格式\n",
    "pred_test = pred_test.view(-1).data.numpy()\n",
    "\n",
    "\n",
    "plt.plot(pred_test, 'r', label='prediction')\n",
    "plt.plot(dataset[2:], 'b', label='real')\n",
    "plt.legend(loc='best')"
   ]
  },
  {
   "cell_type": "code",
   "execution_count": 227,
   "id": "d2469b06",
   "metadata": {},
   "outputs": [
    {
     "data": {
      "text/plain": [
       "[<matplotlib.lines.Line2D at 0x1b7bba2c9a0>]"
      ]
     },
     "execution_count": 227,
     "metadata": {},
     "output_type": "execute_result"
    },
    {
     "data": {
      "image/png": "[encoded data removed]",
      "text/plain": [
       "<Figure size 432x288 with 1 Axes>"
      ]
     },
     "metadata": {
      "needs_background": "light"
     },
     "output_type": "display_data"
    }
   ],
   "source": [
    "#迭代误差图\n",
    "x = range(len(Loss))\n",
    "plt.plot(x,Loss)"
   ]
  },
  {
   "cell_type": "code",
   "execution_count": 228,
   "id": "e56ee65b",
   "metadata": {},
   "outputs": [
    {
     "data": {
      "text/plain": [
       "0.17778468"
      ]
     },
     "execution_count": 228,
     "metadata": {},
     "output_type": "execute_result"
    }
   ],
   "source": [
    "# 预测误差均值\n",
    "np.mean(abs(pred_test-dataset[2:]))"
   ]
  }
 ],
 "metadata": {
  "kernelspec": {
   "display_name": "Python [conda env:python38]",
   "language": "python",
   "name": "conda-env-python38-py"
  },
  "language_info": {
   "codemirror_mode": {
    "name": "ipython",
    "version": 3
   },
   "file_extension": ".py",
   "mimetype": "text/x-python",
   "name": "python",
   "nbconvert_exporter": "python",
   "pygments_lexer": "ipython3",
   "version": "3.8.8"
  },
  "toc": {
   "base_numbering": 1,
   "nav_menu": {},
   "number_sections": true,
   "sideBar": true,
   "skip_h1_title": false,
   "title_cell": "Table of Contents",
   "title_sidebar": "Contents",
   "toc_cell": false,
   "toc_position": {},
   "toc_section_display": true,
   "toc_window_display": false
  }
 },
 "nbformat": 4,
 "nbformat_minor": 5
}
