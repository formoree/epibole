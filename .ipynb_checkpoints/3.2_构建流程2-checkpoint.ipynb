{
 "cells": [
  {
   "cell_type": "markdown",
   "id": "e4eab5df",
   "metadata": {},
   "source": [
    "# 构建流程 "
   ]
  },
  {
   "cell_type": "code",
   "execution_count": null,
   "id": "e9e7d181",
   "metadata": {},
   "outputs": [],
   "source": [
    "def main():\n",
    "    baseurl = \"https://movie.douban.com/top250?start=\"\n",
    "    askURL(baseurl)\n",
    "   \n",
    "#1.爬取网页\n",
    "#     datalist = getData(baseurl)\n",
    "#     savepath = \".\\\\豆瓣电影Top50.xls\"\n",
    "#3.保存数据\n",
    "\n",
    "#爬取网页\n",
    "def getData(baseurl):\n",
    "    datalist = []\n",
    "    for i in range(0,10):     #调用获取页面信息的函数：10次\n",
    "        url = baseurl+str(i*25)\n",
    "        html = askURL(url)\n",
    "        \n",
    "        \n",
    "        \n",
    "        \n",
    "    #2.逐一解析数据\n",
    "    return datalist\n",
    "\n",
    "#得到指定URL网页的内容\n",
    "def askURL(url):\n",
    "    #用户代离 -- 本质告诉浏览器我们可以接受什么水平的文件\n",
    "    #head内字典的格式一定要严格 不能有空格\n",
    "    head = {\n",
    "       \"User-Agent\": \"Mozilla/5.0 (Windows NT 10.0; Win64; x64) AppleWebKit/537.36 (KHTML, like Gecko) Chrome/91.0.4472.124 Safari/537.36 Edg/91.0.864.70\"\n",
    "    }\n",
    "\n",
    "    request = urllib.request.Request(url,headers=head)\n",
    "    try:\n",
    "        response_0 = urllib.request.urlopen(request)\n",
    "        html = response_0.read().decode(\"utf-8\")\n",
    "        print(html)        \n",
    "    except Exception as e:       \n",
    "        if hasattr(e,\"code\"):\n",
    "            print(r.code)\n",
    "        if hasattr(e,\"reason\"):\n",
    "            print(e.reason)\n",
    "    \n",
    "    return html\n",
    "\n",
    "#保存数据\n",
    "def saveData(savepath):\n",
    "    pass\n",
    "    \n",
    "    \n",
    "if __name__ == '__main__':\n",
    "    main()"
   ]
  },
  {
   "cell_type": "markdown",
   "id": "624a98da",
   "metadata": {},
   "source": [
    "# BeautifulSoup补充 "
   ]
  },
  {
   "cell_type": "markdown",
   "id": "7eb49dca",
   "metadata": {},
   "source": [
    "+ BeautifulSoup4将复杂的HTML文档转换为一个复杂的树形结构，每个节点都是python对象，所有对象可以归纳为一下4种:\n",
    "    + Tag\n",
    "    + NavigableString\n",
    "    + BeautifulSoup\n",
    "    + COmment"
   ]
  },
  {
   "cell_type": "code",
   "execution_count": 3,
   "id": "ae98b2f3",
   "metadata": {
    "ExecuteTime": {
     "end_time": "2021-07-21T07:04:09.466296Z",
     "start_time": "2021-07-21T07:04:09.443356Z"
    }
   },
   "outputs": [
    {
     "ename": "ModuleNotFoundError",
     "evalue": "No module named 'beautifulsoup4'",
     "output_type": "error",
     "traceback": [
      "\u001b[1;31m---------------------------------------------------------------------------\u001b[0m",
      "\u001b[1;31mModuleNotFoundError\u001b[0m                       Traceback (most recent call last)",
      "\u001b[1;32m<ipython-input-3-abf33b1429df>\u001b[0m in \u001b[0;36m<module>\u001b[1;34m\u001b[0m\n\u001b[0;32m      1\u001b[0m \u001b[1;32mfrom\u001b[0m \u001b[0mbs4\u001b[0m \u001b[1;32mimport\u001b[0m \u001b[0mBeautifulSoup\u001b[0m\u001b[1;33m\u001b[0m\u001b[1;33m\u001b[0m\u001b[0m\n\u001b[1;32m----> 2\u001b[1;33m \u001b[1;32mimport\u001b[0m \u001b[0mbeautifulsoup4\u001b[0m\u001b[1;33m\u001b[0m\u001b[1;33m\u001b[0m\u001b[0m\n\u001b[0m",
      "\u001b[1;31mModuleNotFoundError\u001b[0m: No module named 'beautifulsoup4'"
     ]
    }
   ],
   "source": [
    "from bs4 import BeautifulSoup\n",
    "import beautifulsoup4"
   ]
  },
  {
   "cell_type": "code",
   "execution_count": null,
   "id": "579e941f",
   "metadata": {},
   "outputs": [],
   "source": []
  },
  {
   "cell_type": "code",
   "execution_count": null,
   "id": "0e75f95c",
   "metadata": {},
   "outputs": [],
   "source": []
  },
  {
   "cell_type": "code",
   "execution_count": null,
   "id": "0eaced31",
   "metadata": {},
   "outputs": [],
   "source": []
  },
  {
   "cell_type": "code",
   "execution_count": null,
   "id": "3e1804d5",
   "metadata": {},
   "outputs": [],
   "source": []
  },
  {
   "cell_type": "code",
   "execution_count": null,
   "id": "83946978",
   "metadata": {},
   "outputs": [],
   "source": []
  },
  {
   "cell_type": "code",
   "execution_count": null,
   "id": "072dbccc",
   "metadata": {},
   "outputs": [],
   "source": []
  }
 ],
 "metadata": {
  "kernelspec": {
   "display_name": "Python 3",
   "language": "python",
   "name": "python3"
  },
  "language_info": {
   "codemirror_mode": {
    "name": "ipython",
    "version": 3
   },
   "file_extension": ".py",
   "mimetype": "text/x-python",
   "name": "python",
   "nbconvert_exporter": "python",
   "pygments_lexer": "ipython3",
   "version": "3.7.10"
  },
  "toc": {
   "base_numbering": 1,
   "nav_menu": {},
   "number_sections": true,
   "sideBar": true,
   "skip_h1_title": false,
   "title_cell": "Table of Contents",
   "title_sidebar": "Contents",
   "toc_cell": false,
   "toc_position": {},
   "toc_section_display": true,
   "toc_window_display": false
  },
  "varInspector": {
   "cols": {
    "lenName": 16,
    "lenType": 16,
    "lenVar": 40
   },
   "kernels_config": {
    "python": {
     "delete_cmd_postfix": "",
     "delete_cmd_prefix": "del ",
     "library": "var_list.py",
     "varRefreshCmd": "print(var_dic_list())"
    },
    "r": {
     "delete_cmd_postfix": ") ",
     "delete_cmd_prefix": "rm(",
     "library": "var_list.r",
     "varRefreshCmd": "cat(var_dic_list()) "
    }
   },
   "types_to_exclude": [
    "module",
    "function",
    "builtin_function_or_method",
    "instance",
    "_Feature"
   ],
   "window_display": false
  }
 },
 "nbformat": 4,
 "nbformat_minor": 5
}
