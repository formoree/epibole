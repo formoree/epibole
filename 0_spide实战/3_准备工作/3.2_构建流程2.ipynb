{
 "cells": [
  {
   "cell_type": "markdown",
   "id": "e4eab5df",
   "metadata": {},
   "source": [
    "# 构建流程 "
   ]
  },
  {
   "cell_type": "code",
   "execution_count": 77,
   "id": "e9e7d181",
   "metadata": {
    "ExecuteTime": {
     "end_time": "2021-07-21T10:29:21.665386Z",
     "start_time": "2021-07-21T10:29:11.242713Z"
    },
    "code_folding": [
     2
    ]
   },
   "outputs": [
    {
     "name": "stdout",
     "output_type": "stream",
     "text": [
      "[['https://movie.douban.com/subject/1292052/', 'https://img2.doubanio.com/view/photo/s_ratio_poster/public/p480747492.jpg', '肖申克的救赎', '\\xa0\\xa0The Shawshank Redemption', '9.7', '2399806', '希望让人自由', '导演: 弗兰克·德拉邦特 Frank Darabont\\xa0\\xa0\\xa0主演: 蒂姆·罗宾斯 Tim Robbins  ... 1994\\xa0 \\xa0美国\\xa0 \\xa0犯罪 剧情'], ['https://movie.douban.com/subject/1291546/', 'https://img3.doubanio.com/view/photo/s_ratio_poster/public/p2561716440.jpg', '霸王别姬', ' ', '9.6', '1786477', '风华绝代', '导演: 陈凯歌 Kaige Chen\\xa0\\xa0\\xa0主演: 张国荣 Leslie Cheung   张丰毅 Fengyi Zha... 1993\\xa0 \\xa0中国大陆 中国香港\\xa0 \\xa0剧情 爱情 同性'], ['https://movie.douban.com/subject/1292720/', 'https://img2.doubanio.com/view/photo/s_ratio_poster/public/p2372307693.jpg', '阿甘正传', '\\xa0\\xa0Forrest Gump', '9.5', '1806877', '一部美国近现代史', '导演: 罗伯特·泽米吉斯 Robert Zemeckis\\xa0\\xa0\\xa0主演: 汤姆·汉克斯 Tom Hanks   ... 1994\\xa0 \\xa0美国\\xa0 \\xa0剧情 爱情'], ['https://movie.douban.com/subject/1295644/', 'https://img2.doubanio.com/view/photo/s_ratio_poster/public/p511118051.jpg', '这个杀手不太冷', '\\xa0\\xa0Léon', '9.4', '1976025', '怪蜀黍和小萝莉不得不说的故事', '导演: 吕克·贝松 Luc Besson\\xa0\\xa0\\xa0主演: 让·雷诺 Jean Reno   娜塔莉·波特曼 ... 1994\\xa0 \\xa0法国 美国\\xa0 \\xa0剧情 动作 犯罪'], ['https://movie.douban.com/subject/1292722/', 'https://img9.doubanio.com/view/photo/s_ratio_poster/public/p457760035.jpg', '泰坦尼克号', '\\xa0\\xa0Titanic', '9.4', '1768141', '失去的才是永恒的 ', '导演: 詹姆斯·卡梅隆 James Cameron\\xa0\\xa0\\xa0主演: 莱昂纳多·迪卡普里奥 Leonardo... 1997\\xa0 \\xa0美国 墨西哥 澳大利亚 加拿大\\xa0 \\xa0剧情 爱情 灾难'], ['https://movie.douban.com/subject/1292063/', 'https://img2.doubanio.com/view/photo/s_ratio_poster/public/p2578474613.jpg', '美丽人生', '\\xa0\\xa0La vita è bella', '9.6', '1108889', '最美的谎言', '导演: 罗伯托·贝尼尼 Roberto Benigni\\xa0\\xa0\\xa0主演: 罗伯托·贝尼尼 Roberto Beni... 1997\\xa0 \\xa0意大利\\xa0 \\xa0剧情 喜剧 爱情 战争'], ['https://movie.douban.com/subject/1291561/', 'https://img1.doubanio.com/view/photo/s_ratio_poster/public/p2557573348.jpg', '千与千寻', '\\xa0\\xa0千と千尋の神隠し', '9.4', '1884566', '最好的宫崎骏，最好的久石让 ', '导演: 宫崎骏 Hayao Miyazaki\\xa0\\xa0\\xa0主演: 柊瑠美 Rumi Hîragi   入野自由 Miy... 2001\\xa0 \\xa0日本\\xa0 \\xa0剧情 动画 奇幻'], ['https://movie.douban.com/subject/1295124/', 'https://img2.doubanio.com/view/photo/s_ratio_poster/public/p492406163.jpg', '辛德勒的名单', \"\\xa0\\xa0Schindler's List\", '9.5', '921635', '拯救一个人，就是拯救整个世界', '导演: 史蒂文·斯皮尔伯格 Steven Spielberg\\xa0\\xa0\\xa0主演: 连姆·尼森 Liam Neeson... 1993\\xa0 \\xa0美国\\xa0 \\xa0剧情 历史 战争'], ['https://movie.douban.com/subject/3541415/', 'https://img2.doubanio.com/view/photo/s_ratio_poster/public/p2616355133.jpg', '盗梦空间', '\\xa0\\xa0Inception', '9.3', '1740033', '诺兰给了我们一场无法盗取的梦', '导演: 克里斯托弗·诺兰 Christopher Nolan\\xa0\\xa0\\xa0主演: 莱昂纳多·迪卡普里奥 Le... 2010\\xa0 \\xa0美国 英国\\xa0 \\xa0剧情 科幻 悬疑 冒险'], ['https://movie.douban.com/subject/3011091/', 'https://img1.doubanio.com/view/photo/s_ratio_poster/public/p524964039.jpg', '忠犬八公的故事', \"\\xa0\\xa0Hachi: A Dog's Tale\", '9.4', '1196250', '永远都不能忘记你所爱的人', '导演: 莱塞·霍尔斯道姆 Lasse Hallström\\xa0\\xa0\\xa0主演: 理查·基尔 Richard Ger... 2009\\xa0 \\xa0美国 英国\\xa0 \\xa0剧情'], ['https://movie.douban.com/subject/1889243/', 'https://img1.doubanio.com/view/photo/s_ratio_poster/public/p2614988097.jpg', '星际穿越', '\\xa0\\xa0Interstellar', '9.3', '1413432', '爱是一种力量，让我们超越时空感知它的存在', '导演: 克里斯托弗·诺兰 Christopher Nolan\\xa0\\xa0\\xa0主演: 马修·麦康纳 Matthew Mc... 2014\\xa0 \\xa0美国 英国 加拿大\\xa0 \\xa0剧情 科幻 冒险'], ['https://movie.douban.com/subject/1292064/', 'https://img2.doubanio.com/view/photo/s_ratio_poster/public/p479682972.jpg', '楚门的世界', '\\xa0\\xa0The Truman Show', '9.3', '1332033', '如果再也不能见到你，祝你早安，午安，晚安', '导演: 彼得·威尔 Peter Weir\\xa0\\xa0\\xa0主演: 金·凯瑞 Jim Carrey   劳拉·琳妮 Lau... 1998\\xa0 \\xa0美国\\xa0 \\xa0剧情 科幻'], ['https://movie.douban.com/subject/1292001/', 'https://img9.doubanio.com/view/photo/s_ratio_poster/public/p2574551676.jpg', '海上钢琴师', \"\\xa0\\xa0La leggenda del pianista sull'oceano\", '9.3', '1413641', '每个人都要走一条自己坚定了的路，就算是粉身碎骨 ', '导演: 朱塞佩·托纳多雷 Giuseppe Tornatore\\xa0\\xa0\\xa0主演: 蒂姆·罗斯 Tim Roth   ... 1998\\xa0 \\xa0意大利\\xa0 \\xa0剧情 音乐'], ['https://movie.douban.com/subject/3793023/', 'https://img2.doubanio.com/view/photo/s_ratio_poster/public/p579729551.jpg', '三傻大闹宝莱坞', '\\xa0\\xa03 Idiots', '9.2', '1587329', '英俊版憨豆，高情商版谢耳朵', '导演: 拉库马·希拉尼 Rajkumar Hirani\\xa0\\xa0\\xa0主演: 阿米尔·汗 Aamir Khan   卡... 2009\\xa0 \\xa0印度\\xa0 \\xa0剧情 喜剧 爱情 歌舞'], ['https://movie.douban.com/subject/2131459/', 'https://img2.doubanio.com/view/photo/s_ratio_poster/public/p1461851991.jpg', '机器人总动员', '\\xa0\\xa0WALL·E', '9.3', '1116636', '小瓦力，大人生', '导演: 安德鲁·斯坦顿 Andrew Stanton\\xa0\\xa0\\xa0主演: 本·贝尔特 Ben Burtt   艾丽... 2008\\xa0 \\xa0美国\\xa0 \\xa0科幻 动画 冒险'], ['https://movie.douban.com/subject/1291549/', 'https://img2.doubanio.com/view/photo/s_ratio_poster/public/p1910824951.jpg', '放牛班的春天', '\\xa0\\xa0Les choristes', '9.3', '1101574', '天籁一般的童声，是最接近上帝的存在 ', '导演: 克里斯托夫·巴拉蒂 Christophe Barratier\\xa0\\xa0\\xa0主演: 热拉尔·朱尼奥 Gé... 2004\\xa0 \\xa0法国 瑞士 德国\\xa0 \\xa0剧情 喜剧 音乐'], ['https://movie.douban.com/subject/1307914/', 'https://img2.doubanio.com/view/photo/s_ratio_poster/public/p2564556863.jpg', '无间道', '\\xa0\\xa0無間道', '9.3', '1078729', '香港电影史上永不过时的杰作', '导演: 刘伟强   麦兆辉\\xa0\\xa0\\xa0主演: 刘德华   梁朝伟   黄秋生 2002\\xa0 \\xa0中国香港\\xa0 \\xa0剧情 犯罪 惊悚'], ['https://movie.douban.com/subject/25662329/', 'https://img1.doubanio.com/view/photo/s_ratio_poster/public/p2614500649.jpg', '疯狂动物城', '\\xa0\\xa0Zootopia', '9.2', '1561935', '迪士尼给我们营造的乌托邦就是这样，永远善良勇敢，永远出乎意料', '导演: 拜伦·霍华德 Byron Howard   瑞奇·摩尔 Rich Moore\\xa0\\xa0\\xa0主演: 金妮弗·... 2016\\xa0 \\xa0美国\\xa0 \\xa0喜剧 动画 冒险'], ['https://movie.douban.com/subject/1292213/', 'https://img9.doubanio.com/view/photo/s_ratio_poster/public/p2455050536.jpg', '大话西游之大圣娶亲', '\\xa0\\xa0西遊記大結局之仙履奇緣', '9.2', '1287447', '一生所爱', '导演: 刘镇伟 Jeffrey Lau\\xa0\\xa0\\xa0主演: 周星驰 Stephen Chow   吴孟达 Man Tat Ng... 1995\\xa0 \\xa0中国香港 中国大陆\\xa0 \\xa0喜剧 爱情 奇幻 古装'], ['https://movie.douban.com/subject/5912992/', 'https://img9.doubanio.com/view/photo/s_ratio_poster/public/p1363250216.jpg', '熔炉', '\\xa0\\xa0도가니', '9.3', '780940', '我们一路奋战不是为了改变世界，而是为了不让世界改变我们', '导演: 黄东赫 Dong-hyuk Hwang\\xa0\\xa0\\xa0主演: 孔侑 Yoo Gong   郑有美 Yu-mi Jung  ... 2011\\xa0 \\xa0韩国\\xa0 \\xa0剧情'], ['https://movie.douban.com/subject/1291841/', 'https://img9.doubanio.com/view/photo/s_ratio_poster/public/p616779645.jpg', '教父', '\\xa0\\xa0The Godfather', '9.3', '783930', '千万不要记恨你的对手，这样会让你失去理智', '导演: 弗朗西斯·福特·科波拉 Francis Ford Coppola\\xa0\\xa0\\xa0主演: 马龙·白兰度 M... 1972\\xa0 \\xa0美国\\xa0 \\xa0剧情 犯罪'], ['https://movie.douban.com/subject/1849031/', 'https://img9.doubanio.com/view/photo/s_ratio_poster/public/p2614359276.jpg', '当幸福来敲门', '\\xa0\\xa0The Pursuit of Happyness', '9.1', '1276791', '平民励志片 ', '导演: 加布里尔·穆奇诺 Gabriele Muccino\\xa0\\xa0\\xa0主演: 威尔·史密斯 Will Smith ... 2006\\xa0 \\xa0美国\\xa0 \\xa0剧情 传记 家庭'], ['https://movie.douban.com/subject/1291560/', 'https://img9.doubanio.com/view/photo/s_ratio_poster/public/p2540924496.jpg', '龙猫', '\\xa0\\xa0となりのトトロ', '9.2', '1066139', '人人心中都有个龙猫，童年就永远不会消失', '导演: 宫崎骏 Hayao Miyazaki\\xa0\\xa0\\xa0主演: 日高法子 Noriko Hidaka   坂本千夏 Ch... 1988\\xa0 \\xa0日本\\xa0 \\xa0动画 奇幻 冒险'], ['https://movie.douban.com/subject/3319755/', 'https://img1.doubanio.com/view/photo/s_ratio_poster/public/p501177648.jpg', '怦然心动', '\\xa0\\xa0Flipped', '9.1', '1516914', '真正的幸福是来自内心深处', '导演: 罗伯·莱纳 Rob Reiner\\xa0\\xa0\\xa0主演: 玛德琳·卡罗尔 Madeline Carroll   卡... 2010\\xa0 \\xa0美国\\xa0 \\xa0剧情 喜剧 爱情'], ['https://movie.douban.com/subject/1296141/', 'https://img1.doubanio.com/view/photo/s_ratio_poster/public/p1505392928.jpg', '控方证人', '\\xa0\\xa0Witness for the Prosecution', '9.6', '381298', '比利·怀德满分作品', '导演: 比利·怀尔德 Billy Wilder\\xa0\\xa0\\xa0主演: 泰隆·鲍华 Tyrone Power   玛琳·... 1957\\xa0 \\xa0美国\\xa0 \\xa0剧情 犯罪 悬疑']]\n"
     ]
    }
   ],
   "source": [
    "from bs4 import BeautifulSoup\n",
    "import urllib\n",
    "def main():\n",
    "    baseurl = \"https://movie.douban.com/top250?start=\"\n",
    "    askURL(baseurl)\n",
    "    getData(baseurl)\n",
    "   \n",
    "#1.爬取网页\n",
    "#     datalist = getData(baseurl)\n",
    "#     savepath = \".\\\\豆瓣电影Top50.xls\"\n",
    "\n",
    "#影片详情\n",
    "findLink = re.compile(r'<a href=\"(.*?)\">') #创建正则对象 表示规则\n",
    "#影片图片\n",
    "findImgSrc = re.compile(r'<img.*src=\"(.*?)\"',re.S) #不是我们查找的内容 不加括号\n",
    "                                                   #re.S让换行符包含其中\n",
    "#影片片名\n",
    "findTitle = re.compile(r'<span class=\"title\">(.*?)</span>')\n",
    "#影片评分\n",
    "findScore = re.compile(r'<span class=\"rating_num\" property=\"v:average\">(.*)</span>')\n",
    "#评价人数\n",
    "findNum = re.compile(r'<span>(\\d*)人评价</span>')\n",
    "#找到概况\n",
    "findInq = re.compile(r'<span class=\"inq\">(.*?)</span>')\n",
    "#找到影片相关内容\n",
    "findBd = re.compile(r'<p class=\"\">(.*?)</p>',re.S)\n",
    "\n",
    "\n",
    "#爬取网页\n",
    "def getData(baseurl):\n",
    "    datalist = []\n",
    "    for i in range(0,1):     #调用获取页面信息的函数：10次\n",
    "        url = baseurl+str(i*25)\n",
    "        html = askURL(url)\n",
    "        \n",
    "        #2.逐一解析数据\n",
    "        soup = BeautifulSoup(html,\"html.parser\")\n",
    "        for temp in soup.find_all(\"div\",class_=\"item\"): #查找符合要求的字符串\n",
    "            # print(temp) 测试查看item信息\n",
    "            data = [] #保存库中所有信息\n",
    "            temp = str(temp)\n",
    "            \n",
    "            #获取影片详情链接\n",
    "            link = re.findall(findLink,temp)[0] #按照findLink规则搜索temp\n",
    "            data.append(link)\n",
    "            \n",
    "            imgSrc = re.findall(findImgSrc,temp)[0]\n",
    "            data.append(imgSrc)\n",
    "            \n",
    "            titles = re.findall(findTitle,temp) #title可能有中文 可能有英文\n",
    "            if(len(titles) == 2):\n",
    "                ctitle = titles[0]\n",
    "                data.append(ctitle)\n",
    "                otitle = re.sub(\"/\",\"\",titles[1]) #去掉无关符号\n",
    "                data.append(otitle)\n",
    "            else:\n",
    "                data.append(titles[0])\n",
    "                data.append(\" \")     #外国名留空\n",
    "            \n",
    "            score = re.findall(findScore,temp)[0]\n",
    "            data.append(score)\n",
    "            \n",
    "            Num = re.findall(findNum,temp)[0]\n",
    "            data.append(Num)\n",
    "            \n",
    "            inq = re.findall(findInq,temp)[0]\n",
    "            if len(inq) != 0:\n",
    "                inq = re.sub(\"。\",\"\",inq)\n",
    "                data.append(inq)\n",
    "            else:\n",
    "                data.append(\" \")\n",
    "                \n",
    "            bd = re.findall(findBd,temp)[0]\n",
    "            bd = re.sub('<br(\\s+)?/>(\\s+)?',\" \",bd) #去掉<br/>及其相关字符\n",
    "            bd = re.sub('/',' ',bd)\n",
    "            data.append(bd.strip()) #去掉前后空格\n",
    "            \n",
    "            datalist.append(data)\n",
    "            #print(link)\n",
    "    print(datalist)        \n",
    "    return datalist\n",
    "\n",
    "#得到指定URL网页的内容\n",
    "def askURL(url):\n",
    "    #用户代离 -- 本质告诉浏览器我们可以接受什么水平的文件\n",
    "    #head内字典的格式一定要严格 不能有空格\n",
    "    head = {\n",
    "       \"User-Agent\": \"Mozilla/5.0 (Windows NT 10.0; Win64; x64) AppleWebKit/537.36 (KHTML, like Gecko) Chrome/91.0.4472.124 Safari/537.36 Edg/91.0.864.70\"\n",
    "    }\n",
    "\n",
    "    request = urllib.request.Request(url,headers=head)\n",
    "    try:\n",
    "        response_0 = urllib.request.urlopen(request)\n",
    "        html = response_0.read().decode(\"utf-8\")\n",
    "    #    print(html)        \n",
    "    except Exception as e:       \n",
    "        if hasattr(e,\"code\"):\n",
    "            print(r.code)\n",
    "        if hasattr(e,\"reason\"):\n",
    "            print(e.reason)\n",
    "    \n",
    "    return html\n",
    "\n",
    "#3.保存数据\n",
    "def saveData(savepath):\n",
    "    pass\n",
    "    \n",
    "    \n",
    "if __name__ == '__main__':\n",
    "    main()"
   ]
  },
  {
   "cell_type": "markdown",
   "id": "624a98da",
   "metadata": {},
   "source": [
    "# BeautifulSoup补充 "
   ]
  },
  {
   "cell_type": "markdown",
   "id": "583aa5fd",
   "metadata": {},
   "source": [
    "## 对象认识"
   ]
  },
  {
   "cell_type": "markdown",
   "id": "7eb49dca",
   "metadata": {},
   "source": [
    "+ BeautifulSoup4将复杂的HTML文档转换为一个复杂的树形结构，每个节点都是python对象，所有对象可以归纳为一下4种:\n",
    "    + Tag:标签及其内容；拿到它所找到的第一个内容\n",
    "    + NavigableString:标签里的内容 字符串\n",
    "    + BeautifulSoup:整个文档\n",
    "    + COmment:特殊的NavigableString,输出的内容不包含注释符号"
   ]
  },
  {
   "cell_type": "code",
   "execution_count": 2,
   "id": "ae98b2f3",
   "metadata": {
    "ExecuteTime": {
     "end_time": "2021-07-21T07:53:10.266487Z",
     "start_time": "2021-07-21T07:53:10.245511Z"
    }
   },
   "outputs": [
    {
     "data": {
      "text/plain": [
       "bs4.element.Tag"
      ]
     },
     "execution_count": 2,
     "metadata": {},
     "output_type": "execute_result"
    }
   ],
   "source": [
    "from bs4 import BeautifulSoup\n",
    "file = open(\"baidu.html\",\"rb\")\n",
    "html = file.read()\n",
    "#BeautifulSoup(对象，解析器)\n",
    "bs = BeautifulSoup(html,\"html.parser\")\n",
    "type(bs.head) #bs4.element.Tag"
   ]
  },
  {
   "cell_type": "code",
   "execution_count": 6,
   "id": "0e75f95c",
   "metadata": {
    "ExecuteTime": {
     "end_time": "2021-07-21T07:55:58.803282Z",
     "start_time": "2021-07-21T07:55:58.782369Z"
    }
   },
   "outputs": [
    {
     "data": {
      "text/plain": [
       "('\\r\\n   百度一下，你就知道 ', bs4.element.NavigableString)"
      ]
     },
     "execution_count": 6,
     "metadata": {},
     "output_type": "execute_result"
    }
   ],
   "source": [
    "bs.title.string,type(bs.title.string) #bs4.element.NavigableString"
   ]
  },
  {
   "cell_type": "code",
   "execution_count": 7,
   "id": "0eaced31",
   "metadata": {
    "ExecuteTime": {
     "end_time": "2021-07-21T07:56:44.439360Z",
     "start_time": "2021-07-21T07:56:44.428390Z"
    }
   },
   "outputs": [
    {
     "data": {
      "text/plain": [
       "{'class': ['mnav'], 'href': 'http://news.baidu.com', 'name': 'tj_trnews'}"
      ]
     },
     "execution_count": 7,
     "metadata": {},
     "output_type": "execute_result"
    }
   ],
   "source": [
    "bs.a.attrs"
   ]
  },
  {
   "cell_type": "code",
   "execution_count": 8,
   "id": "3e1804d5",
   "metadata": {
    "ExecuteTime": {
     "end_time": "2021-07-21T07:57:41.734095Z",
     "start_time": "2021-07-21T07:57:41.712154Z"
    }
   },
   "outputs": [
    {
     "data": {
      "text/plain": [
       "bs4.BeautifulSoup"
      ]
     },
     "execution_count": 8,
     "metadata": {},
     "output_type": "execute_result"
    }
   ],
   "source": [
    "type(bs) #bs4.BeautifulSoup"
   ]
  },
  {
   "cell_type": "code",
   "execution_count": 12,
   "id": "072dbccc",
   "metadata": {
    "ExecuteTime": {
     "end_time": "2021-07-21T07:59:57.599135Z",
     "start_time": "2021-07-21T07:59:57.583211Z"
    }
   },
   "outputs": [
    {
     "data": {
      "text/plain": [
       "bs4.element.NavigableString"
      ]
     },
     "execution_count": 12,
     "metadata": {},
     "output_type": "execute_result"
    }
   ],
   "source": [
    "type(bs.a.string)"
   ]
  },
  {
   "cell_type": "markdown",
   "id": "946444ad",
   "metadata": {},
   "source": [
    "## 文档的遍历 \n"
   ]
  },
  {
   "cell_type": "code",
   "execution_count": 14,
   "id": "9cf33965",
   "metadata": {
    "ExecuteTime": {
     "end_time": "2021-07-21T08:13:37.219364Z",
     "start_time": "2021-07-21T08:13:37.212414Z"
    }
   },
   "outputs": [
    {
     "name": "stdout",
     "output_type": "stream",
     "text": [
      "['\\n', <meta content=\"text/html;charset=utf-8\" http-equiv=\"content-type\"/>, '\\n', <meta content=\"IE=Edge\" http-equiv=\"X-UA-Compatible\"/>, '\\n', <meta content=\"always\" name=\"referrer\"/>, '\\n', <link href=\"https://ss1.bdstatic.com/5eN1bjq8AAUYm2zgoY3K/r/www/cache/bdorz/baidu.min.css\" rel=\"stylesheet\" type=\"text/css\"/>, '\\n', <title>\r\n",
      "   百度一下，你就知道 </title>, '\\n']\n",
      "<meta content=\"text/html;charset=utf-8\" http-equiv=\"content-type\"/>\n"
     ]
    }
   ],
   "source": [
    "#contents 将tag子节点以列表的形式输出\n",
    "print(bs.head.contents)\n",
    "print(bs.head.contents[1])\n",
    "#children 获取tag的所有子节点 返回一个生成器"
   ]
  },
  {
   "cell_type": "markdown",
   "id": "665cc7ad",
   "metadata": {},
   "source": [
    "## 文档搜索  find_all()"
   ]
  },
  {
   "cell_type": "markdown",
   "id": "587fbea6",
   "metadata": {},
   "source": [
    "### 字符串过滤：会查找与字符串完全匹配的内容 "
   ]
  },
  {
   "cell_type": "code",
   "execution_count": 16,
   "id": "61cefb8a",
   "metadata": {
    "ExecuteTime": {
     "end_time": "2021-07-21T08:20:22.976998Z",
     "start_time": "2021-07-21T08:20:22.959046Z"
    }
   },
   "outputs": [
    {
     "data": {
      "text/plain": [
       "[<a class=\"mnav\" href=\"http://news.baidu.com\" name=\"tj_trnews\">\n",
       "        新闻 </a>,\n",
       " <a class=\"mnav\" href=\"https://www.hao123.com\" name=\"tj_trhao123\">\n",
       "        hao123 </a>,\n",
       " <a class=\"mnav\" href=\"http://map.baidu.com\" name=\"tj_trmap\">\n",
       "        地图 </a>,\n",
       " <a class=\"mnav\" href=\"http://v.baidu.com\" name=\"tj_trvideo\">\n",
       "        视频 </a>,\n",
       " <a class=\"mnav\" href=\"http://tieba.baidu.com\" name=\"tj_trtieba\">\n",
       "        贴吧 </a>,\n",
       " <a class=\"bri\" href=\"//www.baidu.com/more/\" name=\"tj_briicon\" style=\"display: block;\">\n",
       "        更多产品 </a>]"
      ]
     },
     "execution_count": 16,
     "metadata": {},
     "output_type": "execute_result"
    }
   ],
   "source": [
    "t_list = bs.find_all(\"a\")\n",
    "t_list"
   ]
  },
  {
   "cell_type": "code",
   "execution_count": 17,
   "id": "a07e60e2",
   "metadata": {
    "ExecuteTime": {
     "end_time": "2021-07-21T08:22:15.080512Z",
     "start_time": "2021-07-21T08:22:15.067549Z"
    }
   },
   "outputs": [
    {
     "data": {
      "text/plain": [
       "[<head>\n",
       " <meta content=\"text/html;charset=utf-8\" http-equiv=\"content-type\"/>\n",
       " <meta content=\"IE=Edge\" http-equiv=\"X-UA-Compatible\"/>\n",
       " <meta content=\"always\" name=\"referrer\"/>\n",
       " <link href=\"https://ss1.bdstatic.com/5eN1bjq8AAUYm2zgoY3K/r/www/cache/bdorz/baidu.min.css\" rel=\"stylesheet\" type=\"text/css\"/>\n",
       " <title>\n",
       "    百度一下，你就知道 </title>\n",
       " </head>,\n",
       " <meta content=\"text/html;charset=utf-8\" http-equiv=\"content-type\"/>,\n",
       " <meta content=\"IE=Edge\" http-equiv=\"X-UA-Compatible\"/>,\n",
       " <meta content=\"always\" name=\"referrer\"/>,\n",
       " <a class=\"mnav\" href=\"http://news.baidu.com\" name=\"tj_trnews\">\n",
       "        新闻 </a>,\n",
       " <a class=\"mnav\" href=\"https://www.hao123.com\" name=\"tj_trhao123\">\n",
       "        hao123 </a>,\n",
       " <a class=\"mnav\" href=\"http://map.baidu.com\" name=\"tj_trmap\">\n",
       "        地图 </a>,\n",
       " <a class=\"mnav\" href=\"http://v.baidu.com\" name=\"tj_trvideo\">\n",
       "        视频 </a>,\n",
       " <a class=\"mnav\" href=\"http://tieba.baidu.com\" name=\"tj_trtieba\">\n",
       "        贴吧 </a>,\n",
       " <a class=\"bri\" href=\"//www.baidu.com/more/\" name=\"tj_briicon\" style=\"display: block;\">\n",
       "        更多产品 </a>]"
      ]
     },
     "execution_count": 17,
     "metadata": {},
     "output_type": "execute_result"
    }
   ],
   "source": [
    "#正则表达式搜索：search()\n",
    "#标签含有a全都显示\n",
    "import re\n",
    "t_list = bs.find_all(re.compile(\"a\"))\n",
    "t_list"
   ]
  },
  {
   "cell_type": "markdown",
   "id": "c971166a",
   "metadata": {},
   "source": [
    "### kwargs 参数 "
   ]
  },
  {
   "cell_type": "code",
   "execution_count": 19,
   "id": "6403f65f",
   "metadata": {
    "ExecuteTime": {
     "end_time": "2021-07-21T08:26:35.684074Z",
     "start_time": "2021-07-21T08:26:35.671075Z"
    }
   },
   "outputs": [
    {
     "name": "stdout",
     "output_type": "stream",
     "text": [
      "<div id=\"head\">\n",
      "<div class=\"head_wrapper\">\n",
      "<div id=\"u1\">\n",
      "<a class=\"mnav\" href=\"http://news.baidu.com\" name=\"tj_trnews\">\r\n",
      "       新闻 </a>\n",
      "<a class=\"mnav\" href=\"https://www.hao123.com\" name=\"tj_trhao123\">\r\n",
      "       hao123 </a>\n",
      "<a class=\"mnav\" href=\"http://map.baidu.com\" name=\"tj_trmap\">\r\n",
      "       地图 </a>\n",
      "<a class=\"mnav\" href=\"http://v.baidu.com\" name=\"tj_trvideo\">\r\n",
      "       视频 </a>\n",
      "<a class=\"mnav\" href=\"http://tieba.baidu.com\" name=\"tj_trtieba\">\r\n",
      "       贴吧 </a>\n",
      "<a class=\"bri\" href=\"//www.baidu.com/more/\" name=\"tj_briicon\" style=\"display: block;\">\r\n",
      "       更多产品 </a>\n",
      "</div>\n",
      "</div>\n",
      "</div>\n"
     ]
    }
   ],
   "source": [
    "t_list = bs.find_all(id=\"head\")\n",
    "\n",
    "for temp in t_list:\n",
    "    print(temp)"
   ]
  },
  {
   "cell_type": "markdown",
   "id": "deb24a55",
   "metadata": {},
   "source": [
    "### text参数"
   ]
  },
  {
   "cell_type": "markdown",
   "id": "736d3ff4",
   "metadata": {},
   "source": [
    "+ 关于find_all(text=xx) 列表为空情况的出现问题解决方式：\n",
    "+ 问题原因：编码方式\n",
    "+ 解决方法：调用re模块（引用正则表达式）"
   ]
  },
  {
   "cell_type": "code",
   "execution_count": 40,
   "id": "a75035c8",
   "metadata": {
    "ExecuteTime": {
     "end_time": "2021-07-21T08:44:34.461161Z",
     "start_time": "2021-07-21T08:44:34.451187Z"
    }
   },
   "outputs": [
    {
     "name": "stdout",
     "output_type": "stream",
     "text": [
      "\r\n",
      "       hao123 \n"
     ]
    }
   ],
   "source": [
    "#t_list = bs.find_all(text=(u\"hao123\")) 不能适用\n",
    "t_list = bs.find_all(text=re.compile(\"\\d\"))\n",
    "\n",
    "for temp in t_list:\n",
    "    print(temp)"
   ]
  },
  {
   "cell_type": "markdown",
   "id": "e06be7b2",
   "metadata": {},
   "source": [
    "### limit参数\n",
    "限定输出个数"
   ]
  },
  {
   "cell_type": "code",
   "execution_count": 41,
   "id": "367be29d",
   "metadata": {
    "ExecuteTime": {
     "end_time": "2021-07-21T08:45:16.349987Z",
     "start_time": "2021-07-21T08:45:16.342008Z"
    }
   },
   "outputs": [
    {
     "name": "stdout",
     "output_type": "stream",
     "text": [
      "<a class=\"mnav\" href=\"http://news.baidu.com\" name=\"tj_trnews\">\r\n",
      "       新闻 </a>\n",
      "<a class=\"mnav\" href=\"https://www.hao123.com\" name=\"tj_trhao123\">\r\n",
      "       hao123 </a>\n",
      "<a class=\"mnav\" href=\"http://map.baidu.com\" name=\"tj_trmap\">\r\n",
      "       地图 </a>\n"
     ]
    }
   ],
   "source": [
    "t_list = bs.find_all('a',limit=3)\n",
    "\n",
    "for temp in t_list:\n",
    "    print(temp)"
   ]
  },
  {
   "cell_type": "markdown",
   "id": "91d7bb6f",
   "metadata": {},
   "source": [
    "### css选择器 "
   ]
  },
  {
   "cell_type": "code",
   "execution_count": 47,
   "id": "e1a0b04c",
   "metadata": {
    "ExecuteTime": {
     "end_time": "2021-07-21T08:49:42.299842Z",
     "start_time": "2021-07-21T08:49:42.284882Z"
    }
   },
   "outputs": [
    {
     "data": {
      "text/plain": [
       "[<title>\n",
       "    百度一下，你就知道 </title>]"
      ]
     },
     "execution_count": 47,
     "metadata": {},
     "output_type": "execute_result"
    }
   ],
   "source": [
    "#t_list = bs.select('title') #通过标签来查找\n",
    "#t_list = bs.select(\".mnav\") #类名\n",
    "# t_list = bs.select(\"a[class='bri']\") #通过属性来查找\n",
    "# t_list = bs.select(\"head > title\") #通过子标签\n",
    "\n",
    "# t_list"
   ]
  },
  {
   "cell_type": "code",
   "execution_count": 48,
   "id": "b267af0f",
   "metadata": {
    "ExecuteTime": {
     "end_time": "2021-07-21T08:51:19.617069Z",
     "start_time": "2021-07-21T08:51:19.595164Z"
    }
   },
   "outputs": [
    {
     "data": {
      "text/plain": [
       "'\\r\\n       更多产品 '"
      ]
     },
     "execution_count": 48,
     "metadata": {},
     "output_type": "execute_result"
    }
   ],
   "source": [
    "t_list = bs.select(\".mnav~.bri\")  #兄弟节点属性\n",
    "t_list[0].get_text()"
   ]
  },
  {
   "cell_type": "markdown",
   "id": "911e0733",
   "metadata": {},
   "source": [
    "## re模块"
   ]
  },
  {
   "cell_type": "markdown",
   "id": "d1c254d4",
   "metadata": {},
   "source": [
    "### 基础知识介绍 "
   ]
  },
  {
   "cell_type": "markdown",
   "id": "68aee6b7",
   "metadata": {
    "ExecuteTime": {
     "end_time": "2021-07-21T08:57:25.108091Z",
     "start_time": "2021-07-21T08:57:24.882750Z"
    }
   },
   "source": [
    "![jupyter](./正则表达式.png)"
   ]
  },
  {
   "cell_type": "markdown",
   "id": "e9fe9388",
   "metadata": {},
   "source": [
    "![jupyter](./re库.png)"
   ]
  },
  {
   "cell_type": "markdown",
   "id": "178fd5f6",
   "metadata": {},
   "source": [
    "### 实战\n",
    "**建议在正则表达式之前加上r 防止其被转义**"
   ]
  },
  {
   "cell_type": "markdown",
   "id": "8276d12d",
   "metadata": {},
   "source": [
    "#### search() "
   ]
  },
  {
   "cell_type": "code",
   "execution_count": 57,
   "id": "0bfb7af8",
   "metadata": {
    "ExecuteTime": {
     "end_time": "2021-07-21T09:11:12.321763Z",
     "start_time": "2021-07-21T09:11:12.307801Z"
    }
   },
   "outputs": [
    {
     "data": {
      "text/plain": [
       "<re.Match object; span=(0, 2), match='AA'>"
      ]
     },
     "execution_count": 57,
     "metadata": {},
     "output_type": "execute_result"
    }
   ],
   "source": [
    "#正则表达式：字符串模式(判断其是否符合标准)\n",
    "import re\n",
    "pat = re.compile(\"AA\") #创建模式对象(验证) AA--正则表达式\n",
    "m = pat.search(\"AcBC\") #none\n",
    "m = pat.search(\"WEAA\") #<re.Match object; span=(2, 4), match='AA'>\n",
    "m = pat.search(\"AABCAA\") #<re.Match object; span=(0, 2), match='AA'> 只找到第一个"
   ]
  },
  {
   "cell_type": "code",
   "execution_count": 59,
   "id": "23ef60e3",
   "metadata": {
    "ExecuteTime": {
     "end_time": "2021-07-21T09:12:26.036898Z",
     "start_time": "2021-07-21T09:12:26.028885Z"
    }
   },
   "outputs": [
    {
     "data": {
      "text/plain": [
       "<re.Match object; span=(2, 4), match='AA'>"
      ]
     },
     "execution_count": 59,
     "metadata": {},
     "output_type": "execute_result"
    }
   ],
   "source": [
    "#无模式对象\n",
    "m = re.search(\"AA\",\"ASAAA\") #前面是规则 后面是对象\n",
    "m"
   ]
  },
  {
   "cell_type": "markdown",
   "id": "6949d473",
   "metadata": {},
   "source": [
    "#### findall()"
   ]
  },
  {
   "cell_type": "code",
   "execution_count": 62,
   "id": "c06ccda7",
   "metadata": {
    "ExecuteTime": {
     "end_time": "2021-07-21T09:14:13.901811Z",
     "start_time": "2021-07-21T09:14:13.890803Z"
    }
   },
   "outputs": [
    {
     "data": {
      "text/plain": [
       "['ASDAEFEF']"
      ]
     },
     "execution_count": 62,
     "metadata": {},
     "output_type": "execute_result"
    }
   ],
   "source": [
    "re.findall(\"[A-Z]+\",\"ASDAEFEFsda\")"
   ]
  },
  {
   "cell_type": "markdown",
   "id": "17302913",
   "metadata": {},
   "source": [
    "####  sub()"
   ]
  },
  {
   "cell_type": "code",
   "execution_count": 63,
   "id": "73c39ebf",
   "metadata": {
    "ExecuteTime": {
     "end_time": "2021-07-21T09:15:06.726665Z",
     "start_time": "2021-07-21T09:15:06.707716Z"
    }
   },
   "outputs": [
    {
     "data": {
      "text/plain": [
       "'AsdAAsdfAsd'"
      ]
     },
     "execution_count": 63,
     "metadata": {},
     "output_type": "execute_result"
    }
   ],
   "source": [
    "re.sub(\"a\",\"A\",\"asdaasdfasd\") #找到a用A替换"
   ]
  },
  {
   "cell_type": "code",
   "execution_count": null,
   "id": "bfa5fe94",
   "metadata": {},
   "outputs": [],
   "source": []
  },
  {
   "cell_type": "code",
   "execution_count": null,
   "id": "970df0ae",
   "metadata": {},
   "outputs": [],
   "source": []
  },
  {
   "cell_type": "code",
   "execution_count": null,
   "id": "f5567a75",
   "metadata": {},
   "outputs": [],
   "source": []
  },
  {
   "cell_type": "code",
   "execution_count": null,
   "id": "d4580728",
   "metadata": {},
   "outputs": [],
   "source": []
  }
 ],
 "metadata": {
  "kernelspec": {
   "display_name": "Python 3",
   "language": "python",
   "name": "python3"
  },
  "language_info": {
   "codemirror_mode": {
    "name": "ipython",
    "version": 3
   },
   "file_extension": ".py",
   "mimetype": "text/x-python",
   "name": "python",
   "nbconvert_exporter": "python",
   "pygments_lexer": "ipython3",
   "version": "3.7.10"
  },
  "toc": {
   "base_numbering": 1,
   "nav_menu": {},
   "number_sections": true,
   "sideBar": true,
   "skip_h1_title": false,
   "title_cell": "Table of Contents",
   "title_sidebar": "Contents",
   "toc_cell": false,
   "toc_position": {},
   "toc_section_display": true,
   "toc_window_display": true
  },
  "varInspector": {
   "cols": {
    "lenName": 16,
    "lenType": 16,
    "lenVar": 40
   },
   "kernels_config": {
    "python": {
     "delete_cmd_postfix": "",
     "delete_cmd_prefix": "del ",
     "library": "var_list.py",
     "varRefreshCmd": "print(var_dic_list())"
    },
    "r": {
     "delete_cmd_postfix": ") ",
     "delete_cmd_prefix": "rm(",
     "library": "var_list.r",
     "varRefreshCmd": "cat(var_dic_list()) "
    }
   },
   "types_to_exclude": [
    "module",
    "function",
    "builtin_function_or_method",
    "instance",
    "_Feature"
   ],
   "window_display": false
  }
 },
 "nbformat": 4,
 "nbformat_minor": 5
}
