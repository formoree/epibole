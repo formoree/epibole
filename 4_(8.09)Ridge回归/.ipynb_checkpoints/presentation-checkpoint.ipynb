{
 "cells": [
  {
   "cell_type": "code",
   "execution_count": 1,
   "metadata": {
    "slideshow": {
     "slide_type": "skip"
    }
   },
   "outputs": [
    {
     "data": {
      "text/html": [
       "\n",
       "<style>\n",
       ".output_png {\n",
       "    display: table-cell;\n",
       "    text-align: center;\n",
       "    margin:auto;\n",
       "}\n",
       ".prompt \n",
       "    display:none;\n",
       "}\n",
       "\n",
       ".dataframe th {\n",
       "    font-size: 18px;\n",
       "}\n",
       ".dataframe td {\n",
       "    font-size: 16px;\n",
       "}\n"
      ],
      "text/plain": [
       "<IPython.core.display.HTML object>"
      ]
     },
     "execution_count": 1,
     "metadata": {},
     "output_type": "execute_result"
    }
   ],
   "source": [
    "from IPython.core.display import HTML\n",
    "HTML(\"\"\"\n",
    "<style>\n",
    ".output_png {\n",
    "    display: table-cell;\n",
    "    text-align: center;\n",
    "    margin:auto;\n",
    "}\n",
    ".prompt \n",
    "    display:none;\n",
    "}\n",
    "\n",
    ".dataframe th {\n",
    "    font-size: 18px;\n",
    "}\n",
    ".dataframe td {\n",
    "    font-size: 16px;\n",
    "}\n",
    "\"\"\")"
   ]
  },
  {
   "cell_type": "markdown",
   "metadata": {
    "slideshow": {
     "slide_type": "skip"
    }
   },
   "source": [
    "$\n",
    "\\newcommand{\\nc}{\\newcommand} \n",
    "\\nc{\\t}{\\text}\n",
    "\\nc{\\tb}{\\textbf}\n",
    "\\nc{\\ti}{\\textit}\n",
    "\\nc{\\x}{\\boldsymbol{x}}\n",
    "\\nc{\\y}{\\boldsymbol{y}}\n",
    "\\nc{\\z}{\\boldsymbol{z}}\n",
    "$"
   ]
  },
  {
   "cell_type": "markdown",
   "metadata": {
    "slideshow": {
     "slide_type": "slide"
    }
   },
   "source": [
    "<center>\n",
    "<img src='./summer_uni.png'  width='600'>\n",
    "    \n",
    "# $$\\tb{Data Science with Python} $$ \n",
    "    \n",
    "## $$\\t{Student's Presentation}$$\n",
    "\n",
    "### $$\\t{Hulin\tLiu}$$\n",
    "    \n",
    "#### $$\\t{Second term 2021}$$"
   ]
  },
  {
   "cell_type": "markdown",
   "metadata": {
    "slideshow": {
     "slide_type": "slide"
    }
   },
   "source": [
    "## $$\\textbf{Electrical Grid Stability Simulated Data Set}$$\n",
    "$$\\t{Regression}$$\n",
    "<hr>\n",
    "<br>"
   ]
  },
  {
   "cell_type": "markdown",
   "metadata": {
    "slideshow": {
     "slide_type": "skip"
    }
   },
   "source": [
    "## $$\\tb{Instructions}$$\n",
    "<hr>\n",
    "\n",
    "* $\\t{Download the dataset file using a following link:}$  <a href='http://archive.ics.uci.edu/ml/datasets/Electrical+Grid+Stability+Simulated+Data+'> DATASET.</a>\n",
    "\n",
    "\n",
    "* $\\t{Describe the data and define the corresponding machine learning task.}$\n",
    "\n",
    "\n",
    "* $\\t{Import the data using Pandas framework.}$\n",
    "\n",
    "\n",
    "* $\\t{In case of missing values fill them appropriately.}$\n",
    "\n",
    "\n",
    "* $\\t{Collect useful data statistics and present them.}$\n",
    "\n",
    "\n",
    "* $\\t{Convert all textual features into a numerical representation if necessary.}$\n",
    "\n",
    "\n",
    "* $\\t{Split data into train, validation and test sets.}$\n",
    "\n",
    "\n",
    "* $\\t{Depict the lower dimensional data representation of the train set.}$\n",
    "\n",
    "\n",
    "* $\\t{Perform data regression using at least two different methods with hyperparameter tuning using the validation set.}$\n",
    "\n",
    "\n",
    "* $\\t{Depict histograms of the value distributions for the data targets and predictions.}$\n",
    "\n",
    "\n",
    "* $\\t{Compare the regressors using RMSE metric.}$\n",
    "\n",
    "\n",
    "* $\\t{Select the best method and report the results achieved on the test set.}$\n",
    " \n",
    "\n",
    "* $\\ti{Optionally:} \\t{ Define and train a simple neural network and compare the results with the previous.}$\n"
   ]
  },
  {
   "cell_type": "code",
   "execution_count": null,
   "metadata": {},
   "outputs": [],
   "source": []
  }
 ],
 "metadata": {
  "celltoolbar": "Slideshow",
  "kernelspec": {
   "display_name": "Python 3",
   "language": "python",
   "name": "python3"
  },
  "language_info": {
   "codemirror_mode": {
    "name": "ipython",
    "version": 3
   },
   "file_extension": ".py",
   "mimetype": "text/x-python",
   "name": "python",
   "nbconvert_exporter": "python",
   "pygments_lexer": "ipython3",
   "version": "3.7.0"
  },
  "toc": {
   "base_numbering": 1,
   "nav_menu": {},
   "number_sections": true,
   "sideBar": true,
   "skip_h1_title": false,
   "title_cell": "Table of Contents",
   "title_sidebar": "Contents",
   "toc_cell": false,
   "toc_position": {},
   "toc_section_display": true,
   "toc_window_display": false
  }
 },
 "nbformat": 4,
 "nbformat_minor": 4
}
