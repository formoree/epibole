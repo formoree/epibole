{
 "cells": [
  {
   "cell_type": "markdown",
   "id": "0d796e32",
   "metadata": {
    "ExecuteTime": {
     "end_time": "2021-07-20T14:16:45.016363Z",
     "start_time": "2021-07-20T14:16:45.008348Z"
    }
   },
   "source": [
    "**其实大部分网站都会有一个robots协议，在网站的根目录下会有个robots.txt的文件，里面写明了网站里面哪些内容可以抓取，哪些不允许。**"
   ]
  },
  {
   "cell_type": "markdown",
   "id": "d1755e00",
   "metadata": {},
   "source": [
    "# 任务驱动学习--爬取豆瓣Top250"
   ]
  },
  {
   "cell_type": "markdown",
   "id": "74753ddf",
   "metadata": {},
   "source": [
    "+ 任务介绍：\n",
    "    + 爬取豆瓣top250基本信息(名称、豆瓣评分、评价数、电影概况、电影链接)"
   ]
  },
  {
   "cell_type": "markdown",
   "id": "1d71de24",
   "metadata": {
    "ExecuteTime": {
     "end_time": "2021-07-21T08:59:01.697219Z",
     "start_time": "2021-07-21T08:59:01.617741Z"
    }
   },
   "source": [
    "![jupyter](./爬虫流程.png)"
   ]
  },
  {
   "cell_type": "code",
   "execution_count": null,
   "id": "20813cab",
   "metadata": {},
   "outputs": [],
   "source": []
  }
 ],
 "metadata": {
  "kernelspec": {
   "display_name": "Python 3",
   "language": "python",
   "name": "python3"
  },
  "language_info": {
   "codemirror_mode": {
    "name": "ipython",
    "version": 3
   },
   "file_extension": ".py",
   "mimetype": "text/x-python",
   "name": "python",
   "nbconvert_exporter": "python",
   "pygments_lexer": "ipython3",
   "version": "3.7.10"
  },
  "toc": {
   "base_numbering": 1,
   "nav_menu": {},
   "number_sections": true,
   "sideBar": true,
   "skip_h1_title": false,
   "title_cell": "Table of Contents",
   "title_sidebar": "Contents",
   "toc_cell": false,
   "toc_position": {},
   "toc_section_display": true,
   "toc_window_display": false
  },
  "varInspector": {
   "cols": {
    "lenName": 16,
    "lenType": 16,
    "lenVar": 40
   },
   "kernels_config": {
    "python": {
     "delete_cmd_postfix": "",
     "delete_cmd_prefix": "del ",
     "library": "var_list.py",
     "varRefreshCmd": "print(var_dic_list())"
    },
    "r": {
     "delete_cmd_postfix": ") ",
     "delete_cmd_prefix": "rm(",
     "library": "var_list.r",
     "varRefreshCmd": "cat(var_dic_list()) "
    }
   },
   "types_to_exclude": [
    "module",
    "function",
    "builtin_function_or_method",
    "instance",
    "_Feature"
   ],
   "window_display": false
  }
 },
 "nbformat": 4,
 "nbformat_minor": 5
}
