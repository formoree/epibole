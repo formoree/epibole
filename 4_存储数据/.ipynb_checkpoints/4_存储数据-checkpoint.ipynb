{
 "cells": [
  {
   "cell_type": "markdown",
   "id": "40e51896",
   "metadata": {},
   "source": [
    "## 整体代码 "
   ]
  },
  {
   "cell_type": "code",
   "execution_count": null,
   "id": "34985ca0",
   "metadata": {
    "code_folding": [
     29,
     83
    ]
   },
   "outputs": [],
   "source": [
    "from bs4 import BeautifulSoup\n",
    "import urllib\n",
    "def main():\n",
    "    baseurl = \"https://movie.douban.com/top250?start=\"\n",
    "    askURL(baseurl)\n",
    "    getData(baseurl)\n",
    "   \n",
    "#1.爬取网页\n",
    "#     datalist = getData(baseurl)\n",
    "#     savepath = \".\\\\豆瓣电影Top50.xls\"\n",
    "\n",
    "#影片详情\n",
    "findLink = re.compile(r'<a href=\"(.*?)\">') #创建正则对象 表示规则\n",
    "#影片图片\n",
    "findImgSrc = re.compile(r'<img.*src=\"(.*?)\"',re.S) #不是我们查找的内容 不加括号\n",
    "                                                   #re.S让换行符包含其中\n",
    "#影片片名\n",
    "findTitle = re.compile(r'<span class=\"title\">(.*?)</span>')\n",
    "#影片评分\n",
    "findScore = re.compile(r'<span class=\"rating_num\" property=\"v:average\">(.*)</span>')\n",
    "#评价人数\n",
    "findNum = re.compile(r'<span>(\\d*)人评价</span>')\n",
    "#找到概况\n",
    "findInq = re.compile(r'<span class=\"inq\">(.*?)</span>')\n",
    "#找到影片相关内容\n",
    "findBd = re.compile(r'<p class=\"\">(.*?)</p>',re.S)\n",
    "\n",
    "\n",
    "#爬取网页\n",
    "def getData(baseurl):\n",
    "    datalist = []\n",
    "    for i in range(0,1):     #调用获取页面信息的函数：10次\n",
    "        url = baseurl+str(i*25)\n",
    "        html = askURL(url)\n",
    "        \n",
    "        #2.逐一解析数据\n",
    "        soup = BeautifulSoup(html,\"html.parser\")\n",
    "        for temp in soup.find_all(\"div\",class_=\"item\"): #查找符合要求的字符串\n",
    "            # print(temp) 测试查看item信息\n",
    "            data = [] #保存库中所有信息\n",
    "            temp = str(temp)\n",
    "            \n",
    "            #获取影片详情链接\n",
    "            link = re.findall(findLink,temp)[0] #按照findLink规则搜索temp\n",
    "            data.append(link)\n",
    "            \n",
    "            imgSrc = re.findall(findImgSrc,temp)[0]\n",
    "            data.append(imgSrc)\n",
    "            \n",
    "            titles = re.findall(findTitle,temp) #title可能有中文 可能有英文\n",
    "            if(len(titles) == 2):\n",
    "                ctitle = titles[0]\n",
    "                data.append(ctitle)\n",
    "                otitle = re.sub(\"/\",\"\",titles[1]) #去掉无关符号\n",
    "                data.append(otitle)\n",
    "            else:\n",
    "                data.append(titles[0])\n",
    "                data.append(\" \")     #外国名留空\n",
    "            \n",
    "            score = re.findall(findScore,temp)[0]\n",
    "            data.append(score)\n",
    "            \n",
    "            Num = re.findall(findNum,temp)[0]\n",
    "            data.append(Num)\n",
    "            \n",
    "            inq = re.findall(findInq,temp)[0]\n",
    "            if len(inq) != 0:\n",
    "                inq = re.sub(\"。\",\"\",inq)\n",
    "                data.append(inq)\n",
    "            else:\n",
    "                data.append(\" \")\n",
    "                \n",
    "            bd = re.findall(findBd,temp)[0]\n",
    "            bd = re.sub('<br(\\s+)?/>(\\s+)?',\" \",bd) #去掉<br/>及其相关字符\n",
    "            bd = re.sub('/',' ',bd)\n",
    "            data.append(bd.strip()) #去掉前后空格\n",
    "            \n",
    "            datalist.append(data)\n",
    "            #print(link)\n",
    "    print(datalist)        \n",
    "    return datalist\n",
    "\n",
    "#得到指定URL网页的内容\n",
    "def askURL(url):\n",
    "    #用户代离 -- 本质告诉浏览器我们可以接受什么水平的文件\n",
    "    #head内字典的格式一定要严格 不能有空格\n",
    "    head = {\n",
    "       \"User-Agent\": \"Mozilla/5.0 (Windows NT 10.0; Win64; x64) AppleWebKit/537.36 (KHTML, like Gecko) Chrome/91.0.4472.124 Safari/537.36 Edg/91.0.864.70\"\n",
    "    }\n",
    "\n",
    "    request = urllib.request.Request(url,headers=head)\n",
    "    try:\n",
    "        response_0 = urllib.request.urlopen(request)\n",
    "        html = response_0.read().decode(\"utf-8\")\n",
    "    #    print(html)        \n",
    "    except Exception as e:       \n",
    "        if hasattr(e,\"code\"):\n",
    "            print(r.code)\n",
    "        if hasattr(e,\"reason\"):\n",
    "            print(e.reason)\n",
    "    \n",
    "    return html\n",
    "\n",
    "#3.保存数据\n",
    "def saveData(savepath):\n",
    "    pass\n",
    "    \n",
    "    \n",
    "if __name__ == '__main__':\n",
    "    main()"
   ]
  },
  {
   "cell_type": "code",
   "execution_count": null,
   "id": "5aaea22e",
   "metadata": {},
   "outputs": [],
   "source": []
  },
  {
   "cell_type": "code",
   "execution_count": null,
   "id": "1bc89fd2",
   "metadata": {},
   "outputs": [],
   "source": []
  },
  {
   "cell_type": "code",
   "execution_count": null,
   "id": "1b3a1257",
   "metadata": {},
   "outputs": [],
   "source": []
  },
  {
   "cell_type": "code",
   "execution_count": null,
   "id": "e3f580ff",
   "metadata": {},
   "outputs": [],
   "source": []
  },
  {
   "cell_type": "code",
   "execution_count": null,
   "id": "77228fbb",
   "metadata": {},
   "outputs": [],
   "source": []
  },
  {
   "cell_type": "code",
   "execution_count": null,
   "id": "c345354e",
   "metadata": {},
   "outputs": [],
   "source": []
  }
 ],
 "metadata": {
  "kernelspec": {
   "display_name": "Python 3",
   "language": "python",
   "name": "python3"
  },
  "language_info": {
   "codemirror_mode": {
    "name": "ipython",
    "version": 3
   },
   "file_extension": ".py",
   "mimetype": "text/x-python",
   "name": "python",
   "nbconvert_exporter": "python",
   "pygments_lexer": "ipython3",
   "version": "3.7.10"
  },
  "toc": {
   "base_numbering": 1,
   "nav_menu": {},
   "number_sections": true,
   "sideBar": true,
   "skip_h1_title": false,
   "title_cell": "Table of Contents",
   "title_sidebar": "Contents",
   "toc_cell": false,
   "toc_position": {},
   "toc_section_display": true,
   "toc_window_display": false
  },
  "varInspector": {
   "cols": {
    "lenName": 16,
    "lenType": 16,
    "lenVar": 40
   },
   "kernels_config": {
    "python": {
     "delete_cmd_postfix": "",
     "delete_cmd_prefix": "del ",
     "library": "var_list.py",
     "varRefreshCmd": "print(var_dic_list())"
    },
    "r": {
     "delete_cmd_postfix": ") ",
     "delete_cmd_prefix": "rm(",
     "library": "var_list.r",
     "varRefreshCmd": "cat(var_dic_list()) "
    }
   },
   "types_to_exclude": [
    "module",
    "function",
    "builtin_function_or_method",
    "instance",
    "_Feature"
   ],
   "window_display": false
  }
 },
 "nbformat": 4,
 "nbformat_minor": 5
}
